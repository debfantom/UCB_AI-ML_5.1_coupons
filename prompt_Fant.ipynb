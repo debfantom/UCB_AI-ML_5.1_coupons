{
 "cells": [
  {
   "cell_type": "markdown",
   "metadata": {
    "id": "CcUT6Fon_qRE"
   },
   "source": [
    "### Required Assignment 5.1: Will the Customer Accept the Coupon?\n",
    "\n",
    "**Context**\n",
    "\n",
    "Imagine driving through town and a coupon is delivered to your cell phone for a restaurant near where you are driving. Would you accept that coupon and take a short detour to the restaurant? Would you accept the coupon but use it on a subsequent trip? Would you ignore the coupon entirely? What if the coupon was for a bar instead of a restaurant? What about a coffee house? Would you accept a bar coupon with a minor passenger in the car? What about if it was just you and your partner in the car? Would weather impact the rate of acceptance? What about the time of day?\n",
    "\n",
    "Obviously, proximity to the business is a factor on whether the coupon is delivered to the driver or not, but what are the factors that determine whether a driver accepts the coupon once it is delivered to them? How would you determine whether a driver is likely to accept a coupon?\n",
    "\n",
    "**Overview**\n",
    "\n",
    "The goal of this project is to use what you know about visualizations and probability distributions to distinguish between customers who accepted a driving coupon versus those that did not.\n",
    "\n",
    "**Data**\n",
    "\n",
    "This data comes to us from the UCI Machine Learning repository and was collected via a survey on Amazon Mechanical Turk. The survey describes different driving scenarios including the destination, current time, weather, passenger, etc., and then ask the person whether he will accept the coupon if he is the driver. Answers that the user will drive there ‘right away’ or ‘later before the coupon expires’ are labeled as ‘Y = 1’ and answers ‘no, I do not want the coupon’ are labeled as ‘Y = 0’.  There are five different types of coupons -- less expensive restaurants (under \\$20), coffee houses, carry out & take away, bar, and more expensive restaurants (\\$20 - $50)."
   ]
  },
  {
   "cell_type": "markdown",
   "metadata": {
    "id": "1wORvMBJ_qRF"
   },
   "source": [
    "**Deliverables**\n",
    "\n",
    "Your final product should be a brief report that highlights the differences between customers who did and did not accept the coupons.  To explore the data you will utilize your knowledge of plotting, statistical summaries, and visualization using Python. You will publish your findings in a public facing github repository as your first portfolio piece.\n",
    "\n",
    "\n",
    "\n"
   ]
  },
  {
   "cell_type": "markdown",
   "metadata": {
    "id": "pG6_Ym6q_qRG"
   },
   "source": [
    "### Data Description\n",
    "Keep in mind that these values mentioned below are average values.\n",
    "\n",
    "The attributes of this data set include:\n",
    "1. User attributes\n",
    "    -  Gender: male, female\n",
    "    -  Age: below 21, 21 to 25, 26 to 30, etc.\n",
    "    -  Marital Status: single, married partner, unmarried partner, or widowed\n",
    "    -  Number of children: 0, 1, or more than 1\n",
    "    -  Education: high school, bachelors degree, associates degree, or graduate degree\n",
    "    -  Occupation: architecture & engineering, business & financial, etc.\n",
    "    -  Annual income: less than \\\\$12500, \\\\$12500 - \\\\$24999, \\\\$25000 - \\\\$37499, etc.\n",
    "    -  Number of times that he/she goes to a bar: 0, less than 1, 1 to 3, 4 to 8 or greater than 8\n",
    "    -  Number of times that he/she buys takeaway food: 0, less than 1, 1 to 3, 4 to 8 or greater\n",
    "    than 8\n",
    "    -  Number of times that he/she goes to a coffee house: 0, less than 1, 1 to 3, 4 to 8 or\n",
    "    greater than 8\n",
    "    -  Number of times that he/she eats at a restaurant with average expense less than \\\\$20 per\n",
    "    person: 0, less than 1, 1 to 3, 4 to 8 or greater than 8\n",
    "    -  Number of times that he/she goes to a bar: 0, less than 1, 1 to 3, 4 to 8 or greater than 8\n",
    "    \n",
    "\n",
    "2. Contextual attributes\n",
    "    - Driving destination: home, work, or no urgent destination\n",
    "    - Location of user, coupon and destination: we provide a map to show the geographical\n",
    "    location of the user, destination, and the venue, and we mark the distance between each\n",
    "    two places with time of driving. The user can see whether the venue is in the same\n",
    "    direction as the destination.\n",
    "    - Weather: sunny, rainy, or snowy\n",
    "    - Temperature: 30F, 55F, or 80F\n",
    "    - Time: 10AM, 2PM, or 6PM\n",
    "    - Passenger: alone, partner, kid(s), or friend(s)\n",
    "\n",
    "\n",
    "3. Coupon attributes\n",
    "    - time before it expires: 2 hours or one day"
   ]
  },
  {
   "cell_type": "code",
   "execution_count": 409,
   "metadata": {
    "id": "dzNoP3o__qRG"
   },
   "outputs": [
    {
     "name": "stdout",
     "output_type": "stream",
     "text": [
      "Requirement already satisfied: kaleido in /opt/anaconda3/lib/python3.12/site-packages (0.2.1)\n"
     ]
    }
   ],
   "source": [
    "import matplotlib.pyplot as plt\n",
    "import seaborn as sns\n",
    "import pandas as pd\n",
    "import numpy as np\n",
    "import plotly.express as px\n",
    "from plotly.subplots import make_subplots\n",
    "import plotly.graph_objects as go\n",
    "!pip install kaleido\n",
    "import os\n"
   ]
  },
  {
   "cell_type": "markdown",
   "metadata": {
    "id": "Ct8pI1uE_qRG"
   },
   "source": [
    "### Problems\n",
    "\n",
    "Use the prompts below to get started with your data analysis.  \n",
    "\n",
    "1. Read in the `coupons.csv` file.\n",
    "\n",
    "\n"
   ]
  },
  {
   "cell_type": "code",
   "execution_count": 411,
   "metadata": {
    "id": "X0vbffYg_qRH"
   },
   "outputs": [],
   "source": [
    "data = pd.read_csv('data/coupons.csv')"
   ]
  },
  {
   "cell_type": "code",
   "execution_count": 412,
   "metadata": {
    "id": "TXofQ_DF_qRH",
    "outputId": "2fc96a2c-1112-4b54-f24f-dbb9bc88abfb"
   },
   "outputs": [
    {
     "data": {
      "text/html": [
       "<div>\n",
       "<style scoped>\n",
       "    .dataframe tbody tr th:only-of-type {\n",
       "        vertical-align: middle;\n",
       "    }\n",
       "\n",
       "    .dataframe tbody tr th {\n",
       "        vertical-align: top;\n",
       "    }\n",
       "\n",
       "    .dataframe thead th {\n",
       "        text-align: right;\n",
       "    }\n",
       "</style>\n",
       "<table border=\"1\" class=\"dataframe\">\n",
       "  <thead>\n",
       "    <tr style=\"text-align: right;\">\n",
       "      <th></th>\n",
       "      <th>destination</th>\n",
       "      <th>passanger</th>\n",
       "      <th>weather</th>\n",
       "      <th>temperature</th>\n",
       "      <th>time</th>\n",
       "      <th>coupon</th>\n",
       "      <th>expiration</th>\n",
       "      <th>gender</th>\n",
       "      <th>age</th>\n",
       "      <th>maritalStatus</th>\n",
       "      <th>...</th>\n",
       "      <th>CoffeeHouse</th>\n",
       "      <th>CarryAway</th>\n",
       "      <th>RestaurantLessThan20</th>\n",
       "      <th>Restaurant20To50</th>\n",
       "      <th>toCoupon_GEQ5min</th>\n",
       "      <th>toCoupon_GEQ15min</th>\n",
       "      <th>toCoupon_GEQ25min</th>\n",
       "      <th>direction_same</th>\n",
       "      <th>direction_opp</th>\n",
       "      <th>Y</th>\n",
       "    </tr>\n",
       "  </thead>\n",
       "  <tbody>\n",
       "    <tr>\n",
       "      <th>0</th>\n",
       "      <td>No Urgent Place</td>\n",
       "      <td>Alone</td>\n",
       "      <td>Sunny</td>\n",
       "      <td>55</td>\n",
       "      <td>2PM</td>\n",
       "      <td>Restaurant(&lt;20)</td>\n",
       "      <td>1d</td>\n",
       "      <td>Female</td>\n",
       "      <td>21</td>\n",
       "      <td>Unmarried partner</td>\n",
       "      <td>...</td>\n",
       "      <td>never</td>\n",
       "      <td>NaN</td>\n",
       "      <td>4~8</td>\n",
       "      <td>1~3</td>\n",
       "      <td>1</td>\n",
       "      <td>0</td>\n",
       "      <td>0</td>\n",
       "      <td>0</td>\n",
       "      <td>1</td>\n",
       "      <td>1</td>\n",
       "    </tr>\n",
       "    <tr>\n",
       "      <th>1</th>\n",
       "      <td>No Urgent Place</td>\n",
       "      <td>Friend(s)</td>\n",
       "      <td>Sunny</td>\n",
       "      <td>80</td>\n",
       "      <td>10AM</td>\n",
       "      <td>Coffee House</td>\n",
       "      <td>2h</td>\n",
       "      <td>Female</td>\n",
       "      <td>21</td>\n",
       "      <td>Unmarried partner</td>\n",
       "      <td>...</td>\n",
       "      <td>never</td>\n",
       "      <td>NaN</td>\n",
       "      <td>4~8</td>\n",
       "      <td>1~3</td>\n",
       "      <td>1</td>\n",
       "      <td>0</td>\n",
       "      <td>0</td>\n",
       "      <td>0</td>\n",
       "      <td>1</td>\n",
       "      <td>0</td>\n",
       "    </tr>\n",
       "    <tr>\n",
       "      <th>2</th>\n",
       "      <td>No Urgent Place</td>\n",
       "      <td>Friend(s)</td>\n",
       "      <td>Sunny</td>\n",
       "      <td>80</td>\n",
       "      <td>10AM</td>\n",
       "      <td>Carry out &amp; Take away</td>\n",
       "      <td>2h</td>\n",
       "      <td>Female</td>\n",
       "      <td>21</td>\n",
       "      <td>Unmarried partner</td>\n",
       "      <td>...</td>\n",
       "      <td>never</td>\n",
       "      <td>NaN</td>\n",
       "      <td>4~8</td>\n",
       "      <td>1~3</td>\n",
       "      <td>1</td>\n",
       "      <td>1</td>\n",
       "      <td>0</td>\n",
       "      <td>0</td>\n",
       "      <td>1</td>\n",
       "      <td>1</td>\n",
       "    </tr>\n",
       "    <tr>\n",
       "      <th>3</th>\n",
       "      <td>No Urgent Place</td>\n",
       "      <td>Friend(s)</td>\n",
       "      <td>Sunny</td>\n",
       "      <td>80</td>\n",
       "      <td>2PM</td>\n",
       "      <td>Coffee House</td>\n",
       "      <td>2h</td>\n",
       "      <td>Female</td>\n",
       "      <td>21</td>\n",
       "      <td>Unmarried partner</td>\n",
       "      <td>...</td>\n",
       "      <td>never</td>\n",
       "      <td>NaN</td>\n",
       "      <td>4~8</td>\n",
       "      <td>1~3</td>\n",
       "      <td>1</td>\n",
       "      <td>1</td>\n",
       "      <td>0</td>\n",
       "      <td>0</td>\n",
       "      <td>1</td>\n",
       "      <td>0</td>\n",
       "    </tr>\n",
       "    <tr>\n",
       "      <th>4</th>\n",
       "      <td>No Urgent Place</td>\n",
       "      <td>Friend(s)</td>\n",
       "      <td>Sunny</td>\n",
       "      <td>80</td>\n",
       "      <td>2PM</td>\n",
       "      <td>Coffee House</td>\n",
       "      <td>1d</td>\n",
       "      <td>Female</td>\n",
       "      <td>21</td>\n",
       "      <td>Unmarried partner</td>\n",
       "      <td>...</td>\n",
       "      <td>never</td>\n",
       "      <td>NaN</td>\n",
       "      <td>4~8</td>\n",
       "      <td>1~3</td>\n",
       "      <td>1</td>\n",
       "      <td>1</td>\n",
       "      <td>0</td>\n",
       "      <td>0</td>\n",
       "      <td>1</td>\n",
       "      <td>0</td>\n",
       "    </tr>\n",
       "  </tbody>\n",
       "</table>\n",
       "<p>5 rows × 26 columns</p>\n",
       "</div>"
      ],
      "text/plain": [
       "       destination  passanger weather  temperature  time  \\\n",
       "0  No Urgent Place      Alone   Sunny           55   2PM   \n",
       "1  No Urgent Place  Friend(s)   Sunny           80  10AM   \n",
       "2  No Urgent Place  Friend(s)   Sunny           80  10AM   \n",
       "3  No Urgent Place  Friend(s)   Sunny           80   2PM   \n",
       "4  No Urgent Place  Friend(s)   Sunny           80   2PM   \n",
       "\n",
       "                  coupon expiration  gender age      maritalStatus  ...  \\\n",
       "0        Restaurant(<20)         1d  Female  21  Unmarried partner  ...   \n",
       "1           Coffee House         2h  Female  21  Unmarried partner  ...   \n",
       "2  Carry out & Take away         2h  Female  21  Unmarried partner  ...   \n",
       "3           Coffee House         2h  Female  21  Unmarried partner  ...   \n",
       "4           Coffee House         1d  Female  21  Unmarried partner  ...   \n",
       "\n",
       "   CoffeeHouse CarryAway RestaurantLessThan20 Restaurant20To50  \\\n",
       "0        never       NaN                  4~8              1~3   \n",
       "1        never       NaN                  4~8              1~3   \n",
       "2        never       NaN                  4~8              1~3   \n",
       "3        never       NaN                  4~8              1~3   \n",
       "4        never       NaN                  4~8              1~3   \n",
       "\n",
       "  toCoupon_GEQ5min toCoupon_GEQ15min toCoupon_GEQ25min direction_same  \\\n",
       "0                1                 0                 0              0   \n",
       "1                1                 0                 0              0   \n",
       "2                1                 1                 0              0   \n",
       "3                1                 1                 0              0   \n",
       "4                1                 1                 0              0   \n",
       "\n",
       "  direction_opp  Y  \n",
       "0             1  1  \n",
       "1             1  0  \n",
       "2             1  1  \n",
       "3             1  0  \n",
       "4             1  0  \n",
       "\n",
       "[5 rows x 26 columns]"
      ]
     },
     "execution_count": 412,
     "metadata": {},
     "output_type": "execute_result"
    }
   ],
   "source": [
    "data.head()"
   ]
  },
  {
   "cell_type": "markdown",
   "metadata": {
    "id": "GcDs78ZH_qRH"
   },
   "source": [
    "## 2. Investigate the dataset for missing or problematic data.\n",
    "\n",
    "#### <span style=\"font-family:Helvetica; font-size:18px;\">**<u>Conclusion</u>:** \n",
    "#### POTENTIAL DUPLICATES: I found 74 pairs of identical entries.  After reviewing the duplicates, it is possible that these entries may not represent true duplicates but rather distinct survey responses that share identical characteristics. This could be attributed to the broad categorization used in the data, leading to multiple responses appearing identical despite originating from different individuals or scenarios.  For this reason, I have choosen **not** to remove these responses from the data set.\n",
    "\n",
    "#### POTENTIAL MISSING DATA: The following missing data was identified.  See section 3 for handling.\n",
    "\n",
    "    Bar                       107  \n",
    "    RestaurantLessThan20      130  \n",
    "    CarryAway                 151  \n",
    "    Restaurant20To50          189  \n",
    "    CoffeeHouse               217  \n",
    "    car                     12576  \n",
    "        dtype: int64  \n",
    "\n",
    "#### POTENTIAL OUTLIERS: The describe() method shows that most most of the numerical fields are boolean.  Temperature, while a number, is really categorical in nature as all data points converge on three temperatures 30, 55 an 80 degrees.  There are **no** outliers that need to be handled prior to analysis. </span>\n"
   ]
  },
  {
   "cell_type": "markdown",
   "metadata": {
    "id": "GcDs78ZH_qRH"
   },
   "source": [
    "### 2.1 Check for Duplicates"
   ]
  },
  {
   "cell_type": "code",
   "execution_count": 415,
   "metadata": {},
   "outputs": [
    {
     "name": "stdout",
     "output_type": "stream",
     "text": [
      "Before removing duplicates: (12684, 26)\n"
     ]
    }
   ],
   "source": [
    "print(\"Before removing duplicates:\", data.shape)"
   ]
  },
  {
   "cell_type": "code",
   "execution_count": 416,
   "metadata": {},
   "outputs": [
    {
     "name": "stdout",
     "output_type": "stream",
     "text": [
      "After removing duplicates: (12610, 26)\n"
     ]
    }
   ],
   "source": [
    "#remove duplicates\n",
    "datanodups = data.drop_duplicates()\n",
    "print(\"After removing duplicates:\", datanodups.shape)"
   ]
  },
  {
   "cell_type": "code",
   "execution_count": 417,
   "metadata": {},
   "outputs": [
    {
     "data": {
      "text/html": [
       "<div>\n",
       "<style scoped>\n",
       "    .dataframe tbody tr th:only-of-type {\n",
       "        vertical-align: middle;\n",
       "    }\n",
       "\n",
       "    .dataframe tbody tr th {\n",
       "        vertical-align: top;\n",
       "    }\n",
       "\n",
       "    .dataframe thead th {\n",
       "        text-align: right;\n",
       "    }\n",
       "</style>\n",
       "<table border=\"1\" class=\"dataframe\">\n",
       "  <thead>\n",
       "    <tr style=\"text-align: right;\">\n",
       "      <th></th>\n",
       "      <th>destination</th>\n",
       "      <th>passanger</th>\n",
       "      <th>weather</th>\n",
       "      <th>temperature</th>\n",
       "      <th>time</th>\n",
       "      <th>coupon</th>\n",
       "      <th>expiration</th>\n",
       "      <th>gender</th>\n",
       "      <th>age</th>\n",
       "      <th>maritalStatus</th>\n",
       "      <th>...</th>\n",
       "      <th>CoffeeHouse</th>\n",
       "      <th>CarryAway</th>\n",
       "      <th>RestaurantLessThan20</th>\n",
       "      <th>Restaurant20To50</th>\n",
       "      <th>toCoupon_GEQ5min</th>\n",
       "      <th>toCoupon_GEQ15min</th>\n",
       "      <th>toCoupon_GEQ25min</th>\n",
       "      <th>direction_same</th>\n",
       "      <th>direction_opp</th>\n",
       "      <th>Y</th>\n",
       "    </tr>\n",
       "  </thead>\n",
       "  <tbody>\n",
       "    <tr>\n",
       "      <th>7855</th>\n",
       "      <td>Home</td>\n",
       "      <td>Alone</td>\n",
       "      <td>Sunny</td>\n",
       "      <td>80</td>\n",
       "      <td>6PM</td>\n",
       "      <td>Bar</td>\n",
       "      <td>2h</td>\n",
       "      <td>Female</td>\n",
       "      <td>31</td>\n",
       "      <td>Married partner</td>\n",
       "      <td>...</td>\n",
       "      <td>less1</td>\n",
       "      <td>gt8</td>\n",
       "      <td>4~8</td>\n",
       "      <td>less1</td>\n",
       "      <td>1</td>\n",
       "      <td>0</td>\n",
       "      <td>0</td>\n",
       "      <td>1</td>\n",
       "      <td>0</td>\n",
       "      <td>0</td>\n",
       "    </tr>\n",
       "    <tr>\n",
       "      <th>5124</th>\n",
       "      <td>Work</td>\n",
       "      <td>Alone</td>\n",
       "      <td>Sunny</td>\n",
       "      <td>80</td>\n",
       "      <td>7AM</td>\n",
       "      <td>Carry out &amp; Take away</td>\n",
       "      <td>1d</td>\n",
       "      <td>Female</td>\n",
       "      <td>21</td>\n",
       "      <td>Single</td>\n",
       "      <td>...</td>\n",
       "      <td>never</td>\n",
       "      <td>never</td>\n",
       "      <td>gt8</td>\n",
       "      <td>less1</td>\n",
       "      <td>1</td>\n",
       "      <td>1</td>\n",
       "      <td>1</td>\n",
       "      <td>0</td>\n",
       "      <td>1</td>\n",
       "      <td>1</td>\n",
       "    </tr>\n",
       "    <tr>\n",
       "      <th>4235</th>\n",
       "      <td>Work</td>\n",
       "      <td>Alone</td>\n",
       "      <td>Sunny</td>\n",
       "      <td>80</td>\n",
       "      <td>7AM</td>\n",
       "      <td>Carry out &amp; Take away</td>\n",
       "      <td>1d</td>\n",
       "      <td>Male</td>\n",
       "      <td>26</td>\n",
       "      <td>Single</td>\n",
       "      <td>...</td>\n",
       "      <td>gt8</td>\n",
       "      <td>gt8</td>\n",
       "      <td>4~8</td>\n",
       "      <td>less1</td>\n",
       "      <td>1</td>\n",
       "      <td>1</td>\n",
       "      <td>1</td>\n",
       "      <td>0</td>\n",
       "      <td>1</td>\n",
       "      <td>1</td>\n",
       "    </tr>\n",
       "    <tr>\n",
       "      <th>8507</th>\n",
       "      <td>No Urgent Place</td>\n",
       "      <td>Kid(s)</td>\n",
       "      <td>Sunny</td>\n",
       "      <td>55</td>\n",
       "      <td>2PM</td>\n",
       "      <td>Coffee House</td>\n",
       "      <td>1d</td>\n",
       "      <td>Male</td>\n",
       "      <td>46</td>\n",
       "      <td>Married partner</td>\n",
       "      <td>...</td>\n",
       "      <td>1~3</td>\n",
       "      <td>1~3</td>\n",
       "      <td>less1</td>\n",
       "      <td>1~3</td>\n",
       "      <td>1</td>\n",
       "      <td>1</td>\n",
       "      <td>0</td>\n",
       "      <td>0</td>\n",
       "      <td>1</td>\n",
       "      <td>1</td>\n",
       "    </tr>\n",
       "  </tbody>\n",
       "</table>\n",
       "<p>4 rows × 26 columns</p>\n",
       "</div>"
      ],
      "text/plain": [
       "          destination passanger weather  temperature time  \\\n",
       "7855             Home     Alone   Sunny           80  6PM   \n",
       "5124             Work     Alone   Sunny           80  7AM   \n",
       "4235             Work     Alone   Sunny           80  7AM   \n",
       "8507  No Urgent Place    Kid(s)   Sunny           55  2PM   \n",
       "\n",
       "                     coupon expiration  gender age    maritalStatus  ...  \\\n",
       "7855                    Bar         2h  Female  31  Married partner  ...   \n",
       "5124  Carry out & Take away         1d  Female  21           Single  ...   \n",
       "4235  Carry out & Take away         1d    Male  26           Single  ...   \n",
       "8507           Coffee House         1d    Male  46  Married partner  ...   \n",
       "\n",
       "      CoffeeHouse CarryAway RestaurantLessThan20 Restaurant20To50  \\\n",
       "7855        less1       gt8                  4~8            less1   \n",
       "5124        never     never                  gt8            less1   \n",
       "4235          gt8       gt8                  4~8            less1   \n",
       "8507          1~3       1~3                less1              1~3   \n",
       "\n",
       "     toCoupon_GEQ5min toCoupon_GEQ15min toCoupon_GEQ25min direction_same  \\\n",
       "7855                1                 0                 0              1   \n",
       "5124                1                 1                 1              0   \n",
       "4235                1                 1                 1              0   \n",
       "8507                1                 1                 0              0   \n",
       "\n",
       "     direction_opp  Y  \n",
       "7855             0  0  \n",
       "5124             1  1  \n",
       "4235             1  1  \n",
       "8507             1  1  \n",
       "\n",
       "[4 rows x 26 columns]"
      ]
     },
     "execution_count": 417,
     "metadata": {},
     "output_type": "execute_result"
    }
   ],
   "source": [
    "# Display duplicate rows in the DataFrame\n",
    "duplicates = data[data.duplicated(keep=False)]\n",
    "duplicates.sample(6)\n",
    "\n",
    "# Save duplicates to a CSV file\n",
    "duplicates.to_csv('data/candidate_dups.csv', index=False)\n",
    "duplicates.sample(4)"
   ]
  },
  {
   "cell_type": "markdown",
   "metadata": {
    "id": "GcDs78ZH_qRH"
   },
   "source": [
    "### 2.2 Check for Missing Values\n"
   ]
  },
  {
   "cell_type": "code",
   "execution_count": 419,
   "metadata": {},
   "outputs": [
    {
     "name": "stdout",
     "output_type": "stream",
     "text": [
      "destination                 0\n",
      "direction_same              0\n",
      "toCoupon_GEQ25min           0\n",
      "toCoupon_GEQ15min           0\n",
      "toCoupon_GEQ5min            0\n",
      "income                      0\n",
      "direction_opp               0\n",
      "education                   0\n",
      "has_children                0\n",
      "occupation                  0\n",
      "age                         0\n",
      "gender                      0\n",
      "expiration                  0\n",
      "coupon                      0\n",
      "time                        0\n",
      "temperature                 0\n",
      "weather                     0\n",
      "passanger                   0\n",
      "maritalStatus               0\n",
      "Y                           0\n",
      "Bar                       107\n",
      "RestaurantLessThan20      130\n",
      "CarryAway                 151\n",
      "Restaurant20To50          189\n",
      "CoffeeHouse               217\n",
      "car                     12576\n",
      "dtype: int64\n"
     ]
    }
   ],
   "source": [
    "# Identify missing data\n",
    "missing_counts = data.isnull().sum().sort_values()\n",
    "print(missing_counts)\n"
   ]
  },
  {
   "cell_type": "code",
   "execution_count": 420,
   "metadata": {},
   "outputs": [
    {
     "name": "stdout",
     "output_type": "stream",
     "text": [
      "Bar                       107\n",
      "RestaurantLessThan20      130\n",
      "CarryAway                 151\n",
      "Restaurant20To50          189\n",
      "CoffeeHouse               217\n",
      "car                     12576\n",
      "dtype: int64\n"
     ]
    }
   ],
   "source": [
    "# Display only fields with missign data that needs to be addressed.\n",
    "missing_counts_only = missing_counts[missing_counts > 0]\n",
    "print(missing_counts_only)"
   ]
  },
  {
   "cell_type": "code",
   "execution_count": null,
   "metadata": {},
   "outputs": [],
   "source": []
  },
  {
   "cell_type": "markdown",
   "metadata": {
    "id": "YE6oJbXd_qRI"
   },
   "source": [
    "### 2.3. Check for outliers and decide how to handle them\n",
    "\n"
   ]
  },
  {
   "cell_type": "code",
   "execution_count": 422,
   "metadata": {},
   "outputs": [
    {
     "data": {
      "text/html": [
       "<div>\n",
       "<style scoped>\n",
       "    .dataframe tbody tr th:only-of-type {\n",
       "        vertical-align: middle;\n",
       "    }\n",
       "\n",
       "    .dataframe tbody tr th {\n",
       "        vertical-align: top;\n",
       "    }\n",
       "\n",
       "    .dataframe thead th {\n",
       "        text-align: right;\n",
       "    }\n",
       "</style>\n",
       "<table border=\"1\" class=\"dataframe\">\n",
       "  <thead>\n",
       "    <tr style=\"text-align: right;\">\n",
       "      <th></th>\n",
       "      <th>temperature</th>\n",
       "      <th>has_children</th>\n",
       "      <th>toCoupon_GEQ5min</th>\n",
       "      <th>toCoupon_GEQ15min</th>\n",
       "      <th>toCoupon_GEQ25min</th>\n",
       "      <th>direction_same</th>\n",
       "      <th>direction_opp</th>\n",
       "      <th>Y</th>\n",
       "    </tr>\n",
       "  </thead>\n",
       "  <tbody>\n",
       "    <tr>\n",
       "      <th>count</th>\n",
       "      <td>12684.000000</td>\n",
       "      <td>12684.000000</td>\n",
       "      <td>12684.0</td>\n",
       "      <td>12684.000000</td>\n",
       "      <td>12684.000000</td>\n",
       "      <td>12684.000000</td>\n",
       "      <td>12684.000000</td>\n",
       "      <td>12684.000000</td>\n",
       "    </tr>\n",
       "    <tr>\n",
       "      <th>mean</th>\n",
       "      <td>63.301798</td>\n",
       "      <td>0.414144</td>\n",
       "      <td>1.0</td>\n",
       "      <td>0.561495</td>\n",
       "      <td>0.119126</td>\n",
       "      <td>0.214759</td>\n",
       "      <td>0.785241</td>\n",
       "      <td>0.568433</td>\n",
       "    </tr>\n",
       "    <tr>\n",
       "      <th>std</th>\n",
       "      <td>19.154486</td>\n",
       "      <td>0.492593</td>\n",
       "      <td>0.0</td>\n",
       "      <td>0.496224</td>\n",
       "      <td>0.323950</td>\n",
       "      <td>0.410671</td>\n",
       "      <td>0.410671</td>\n",
       "      <td>0.495314</td>\n",
       "    </tr>\n",
       "    <tr>\n",
       "      <th>min</th>\n",
       "      <td>30.000000</td>\n",
       "      <td>0.000000</td>\n",
       "      <td>1.0</td>\n",
       "      <td>0.000000</td>\n",
       "      <td>0.000000</td>\n",
       "      <td>0.000000</td>\n",
       "      <td>0.000000</td>\n",
       "      <td>0.000000</td>\n",
       "    </tr>\n",
       "    <tr>\n",
       "      <th>25%</th>\n",
       "      <td>55.000000</td>\n",
       "      <td>0.000000</td>\n",
       "      <td>1.0</td>\n",
       "      <td>0.000000</td>\n",
       "      <td>0.000000</td>\n",
       "      <td>0.000000</td>\n",
       "      <td>1.000000</td>\n",
       "      <td>0.000000</td>\n",
       "    </tr>\n",
       "    <tr>\n",
       "      <th>50%</th>\n",
       "      <td>80.000000</td>\n",
       "      <td>0.000000</td>\n",
       "      <td>1.0</td>\n",
       "      <td>1.000000</td>\n",
       "      <td>0.000000</td>\n",
       "      <td>0.000000</td>\n",
       "      <td>1.000000</td>\n",
       "      <td>1.000000</td>\n",
       "    </tr>\n",
       "    <tr>\n",
       "      <th>75%</th>\n",
       "      <td>80.000000</td>\n",
       "      <td>1.000000</td>\n",
       "      <td>1.0</td>\n",
       "      <td>1.000000</td>\n",
       "      <td>0.000000</td>\n",
       "      <td>0.000000</td>\n",
       "      <td>1.000000</td>\n",
       "      <td>1.000000</td>\n",
       "    </tr>\n",
       "    <tr>\n",
       "      <th>max</th>\n",
       "      <td>80.000000</td>\n",
       "      <td>1.000000</td>\n",
       "      <td>1.0</td>\n",
       "      <td>1.000000</td>\n",
       "      <td>1.000000</td>\n",
       "      <td>1.000000</td>\n",
       "      <td>1.000000</td>\n",
       "      <td>1.000000</td>\n",
       "    </tr>\n",
       "  </tbody>\n",
       "</table>\n",
       "</div>"
      ],
      "text/plain": [
       "        temperature  has_children  toCoupon_GEQ5min  toCoupon_GEQ15min  \\\n",
       "count  12684.000000  12684.000000           12684.0       12684.000000   \n",
       "mean      63.301798      0.414144               1.0           0.561495   \n",
       "std       19.154486      0.492593               0.0           0.496224   \n",
       "min       30.000000      0.000000               1.0           0.000000   \n",
       "25%       55.000000      0.000000               1.0           0.000000   \n",
       "50%       80.000000      0.000000               1.0           1.000000   \n",
       "75%       80.000000      1.000000               1.0           1.000000   \n",
       "max       80.000000      1.000000               1.0           1.000000   \n",
       "\n",
       "       toCoupon_GEQ25min  direction_same  direction_opp             Y  \n",
       "count       12684.000000    12684.000000   12684.000000  12684.000000  \n",
       "mean            0.119126        0.214759       0.785241      0.568433  \n",
       "std             0.323950        0.410671       0.410671      0.495314  \n",
       "min             0.000000        0.000000       0.000000      0.000000  \n",
       "25%             0.000000        0.000000       1.000000      0.000000  \n",
       "50%             0.000000        0.000000       1.000000      1.000000  \n",
       "75%             0.000000        0.000000       1.000000      1.000000  \n",
       "max             1.000000        1.000000       1.000000      1.000000  "
      ]
     },
     "execution_count": 422,
     "metadata": {},
     "output_type": "execute_result"
    }
   ],
   "source": [
    "# Use .describe() method to identify numerical fields (fields are either boolean or categorical)\n",
    "\n",
    "data.describe()"
   ]
  },
  {
   "cell_type": "markdown",
   "metadata": {
    "id": "bSdVSpYB_qRH"
   },
   "source": [
    "## 3. Decide what to do about your missing data -- drop, replace, other...\n",
    "\n",
    "#### <span style=\"font-family:Helvetica; font-size:20px;\">**<u>Conclusion</u>:** \n",
    "\n",
    " - <u>**car (A lot of missing values)</u>:** **Replace nan values with 'car'** as a neutral value. **Drop rows with values in ('do not drive', 'Scooter and motorcycle') as these potentially affect decision making**.  If you do not drive, you are not empowered to make a decisions about route.  If you drive a Scooter, your speed is less making your calculus different when judging distance and time.  This is less than 0.5% reduction in data. \n",
    "\n",
    " - <u>**Bar/CarryAway/CoffeeHouse/RestaurantLessThan20/Restaurant20To50 (Minimal missing values: <1.7% of data, each)</u>:** **Replace nan values with mode value for that field** using the distribution of values as a guide. This should not affect the analysis too much as I plan to evaluate \"3 or less\" vs \"4+\" rates of coupon acceptance.  \n"
   ]
  },
  {
   "cell_type": "markdown",
   "metadata": {
    "id": "bSdVSpYB_qRH"
   },
   "source": [
    "### 3.1 Investigte unique values and their distribution for each of the fields with missing values "
   ]
  },
  {
   "cell_type": "code",
   "execution_count": 425,
   "metadata": {},
   "outputs": [
    {
     "data": {
      "text/plain": [
       "car\n",
       "NaN                                         12576\n",
       "Scooter and motorcycle                         22\n",
       "Mazda5                                         22\n",
       "do not drive                                   22\n",
       "crossover                                      21\n",
       "Car that is too old to install Onstar :D       21\n",
       "Name: count, dtype: int64"
      ]
     },
     "execution_count": 425,
     "metadata": {},
     "output_type": "execute_result"
    }
   ],
   "source": [
    "# Get unique values and their distribution in the 'car' column\n",
    "data['car'].value_counts(dropna=False)"
   ]
  },
  {
   "cell_type": "code",
   "execution_count": 426,
   "metadata": {},
   "outputs": [
    {
     "data": {
      "text/plain": [
       "CarryAway\n",
       "1~3      4672\n",
       "4~8      4258\n",
       "less1    1856\n",
       "gt8      1594\n",
       "never     153\n",
       "NaN       151\n",
       "Name: count, dtype: int64"
      ]
     },
     "execution_count": 426,
     "metadata": {},
     "output_type": "execute_result"
    }
   ],
   "source": [
    "data['CarryAway'].value_counts(dropna=False)"
   ]
  },
  {
   "cell_type": "code",
   "execution_count": 427,
   "metadata": {},
   "outputs": [
    {
     "data": {
      "text/plain": [
       "CoffeeHouse\n",
       "less1    3385\n",
       "1~3      3225\n",
       "never    2962\n",
       "4~8      1784\n",
       "gt8      1111\n",
       "NaN       217\n",
       "Name: count, dtype: int64"
      ]
     },
     "execution_count": 427,
     "metadata": {},
     "output_type": "execute_result"
    }
   ],
   "source": [
    "data['CoffeeHouse'].value_counts(dropna=False)"
   ]
  },
  {
   "cell_type": "code",
   "execution_count": 428,
   "metadata": {},
   "outputs": [
    {
     "data": {
      "text/plain": [
       "RestaurantLessThan20\n",
       "1~3      5376\n",
       "4~8      3580\n",
       "less1    2093\n",
       "gt8      1285\n",
       "never     220\n",
       "NaN       130\n",
       "Name: count, dtype: int64"
      ]
     },
     "execution_count": 428,
     "metadata": {},
     "output_type": "execute_result"
    }
   ],
   "source": [
    "data['RestaurantLessThan20'].value_counts(dropna=False)"
   ]
  },
  {
   "cell_type": "code",
   "execution_count": 429,
   "metadata": {},
   "outputs": [
    {
     "data": {
      "text/plain": [
       "Restaurant20To50\n",
       "less1    6077\n",
       "1~3      3290\n",
       "never    2136\n",
       "4~8       728\n",
       "gt8       264\n",
       "NaN       189\n",
       "Name: count, dtype: int64"
      ]
     },
     "execution_count": 429,
     "metadata": {},
     "output_type": "execute_result"
    }
   ],
   "source": [
    "data['Restaurant20To50'].value_counts(dropna=False)"
   ]
  },
  {
   "cell_type": "code",
   "execution_count": 430,
   "metadata": {},
   "outputs": [
    {
     "data": {
      "text/plain": [
       "Bar\n",
       "never    5197\n",
       "less1    3482\n",
       "1~3      2473\n",
       "4~8      1076\n",
       "gt8       349\n",
       "NaN       107\n",
       "Name: count, dtype: int64"
      ]
     },
     "execution_count": 430,
     "metadata": {},
     "output_type": "execute_result"
    }
   ],
   "source": [
    "data['Bar'].value_counts(dropna=False)"
   ]
  },
  {
   "cell_type": "markdown",
   "metadata": {
    "id": "bSdVSpYB_qRH"
   },
   "source": [
    "### 3.2 Decide handling of missing values and execute"
   ]
  },
  {
   "cell_type": "code",
   "execution_count": 432,
   "metadata": {},
   "outputs": [],
   "source": [
    "# Fill NaN values in the 'car' column with 'car' \n",
    "data.loc[:, 'car'] = data['car'].fillna('car')\n",
    "\n",
    "# Filter rows where 'car' is NOT \"Scooter and motorcycle\" or \"do not drive\"\n",
    "data = data.query('car not in [\"Scooter and motorcycle\", \"do not drive\"]')\n"
   ]
  },
  {
   "cell_type": "code",
   "execution_count": 433,
   "metadata": {},
   "outputs": [],
   "source": [
    "# List of columns to fill with mode values\n",
    "columns_to_fill = ['Bar', 'RestaurantLessThan20', 'CarryAway', 'Restaurant20To50', 'CoffeeHouse']\n",
    "\n",
    "# Fill NaN values in each column with the mode value\n",
    "for col in columns_to_fill:\n",
    "    data[col] = data[col].fillna(data[col].mode()[0])\n"
   ]
  },
  {
   "cell_type": "code",
   "execution_count": 434,
   "metadata": {},
   "outputs": [
    {
     "name": "stdout",
     "output_type": "stream",
     "text": [
      "<class 'pandas.core.series.Series'>\n",
      "Index: 0 entries\n",
      "Series name: None\n",
      "Non-Null Count  Dtype\n",
      "--------------  -----\n",
      "0 non-null      int64\n",
      "dtypes: int64(1)\n",
      "memory usage: 0.0+ bytes\n"
     ]
    }
   ],
   "source": [
    "# Verify the changes\n",
    "missing_counts = data.isnull().sum().sort_values()\n",
    "missing_counts_only = missing_counts[missing_counts > 0]\n",
    "missing_counts_only.info()  # Should print empty set if all NaN values are filled"
   ]
  },
  {
   "cell_type": "code",
   "execution_count": 435,
   "metadata": {},
   "outputs": [
    {
     "data": {
      "text/plain": [
       "(12640, 26)"
      ]
     },
     "execution_count": 435,
     "metadata": {},
     "output_type": "execute_result"
    }
   ],
   "source": [
    "# Display the final shape of the  resulting DataFrame\n",
    "data.shape"
   ]
  },
  {
   "cell_type": "code",
   "execution_count": 436,
   "metadata": {},
   "outputs": [
    {
     "data": {
      "text/html": [
       "<div>\n",
       "<style scoped>\n",
       "    .dataframe tbody tr th:only-of-type {\n",
       "        vertical-align: middle;\n",
       "    }\n",
       "\n",
       "    .dataframe tbody tr th {\n",
       "        vertical-align: top;\n",
       "    }\n",
       "\n",
       "    .dataframe thead th {\n",
       "        text-align: right;\n",
       "    }\n",
       "</style>\n",
       "<table border=\"1\" class=\"dataframe\">\n",
       "  <thead>\n",
       "    <tr style=\"text-align: right;\">\n",
       "      <th></th>\n",
       "      <th>temperature</th>\n",
       "      <th>has_children</th>\n",
       "      <th>toCoupon_GEQ5min</th>\n",
       "      <th>toCoupon_GEQ15min</th>\n",
       "      <th>toCoupon_GEQ25min</th>\n",
       "      <th>direction_same</th>\n",
       "      <th>direction_opp</th>\n",
       "      <th>Y</th>\n",
       "    </tr>\n",
       "  </thead>\n",
       "  <tbody>\n",
       "    <tr>\n",
       "      <th>count</th>\n",
       "      <td>12640.00000</td>\n",
       "      <td>12640.000000</td>\n",
       "      <td>12640.0</td>\n",
       "      <td>12640.000000</td>\n",
       "      <td>12640.000000</td>\n",
       "      <td>12640.000000</td>\n",
       "      <td>12640.000000</td>\n",
       "      <td>12640.00000</td>\n",
       "    </tr>\n",
       "    <tr>\n",
       "      <th>mean</th>\n",
       "      <td>63.30894</td>\n",
       "      <td>0.415585</td>\n",
       "      <td>1.0</td>\n",
       "      <td>0.561551</td>\n",
       "      <td>0.119066</td>\n",
       "      <td>0.215032</td>\n",
       "      <td>0.784968</td>\n",
       "      <td>0.56875</td>\n",
       "    </tr>\n",
       "    <tr>\n",
       "      <th>std</th>\n",
       "      <td>19.15614</td>\n",
       "      <td>0.492842</td>\n",
       "      <td>0.0</td>\n",
       "      <td>0.496217</td>\n",
       "      <td>0.323880</td>\n",
       "      <td>0.410861</td>\n",
       "      <td>0.410861</td>\n",
       "      <td>0.49527</td>\n",
       "    </tr>\n",
       "    <tr>\n",
       "      <th>min</th>\n",
       "      <td>30.00000</td>\n",
       "      <td>0.000000</td>\n",
       "      <td>1.0</td>\n",
       "      <td>0.000000</td>\n",
       "      <td>0.000000</td>\n",
       "      <td>0.000000</td>\n",
       "      <td>0.000000</td>\n",
       "      <td>0.00000</td>\n",
       "    </tr>\n",
       "    <tr>\n",
       "      <th>25%</th>\n",
       "      <td>55.00000</td>\n",
       "      <td>0.000000</td>\n",
       "      <td>1.0</td>\n",
       "      <td>0.000000</td>\n",
       "      <td>0.000000</td>\n",
       "      <td>0.000000</td>\n",
       "      <td>1.000000</td>\n",
       "      <td>0.00000</td>\n",
       "    </tr>\n",
       "    <tr>\n",
       "      <th>50%</th>\n",
       "      <td>80.00000</td>\n",
       "      <td>0.000000</td>\n",
       "      <td>1.0</td>\n",
       "      <td>1.000000</td>\n",
       "      <td>0.000000</td>\n",
       "      <td>0.000000</td>\n",
       "      <td>1.000000</td>\n",
       "      <td>1.00000</td>\n",
       "    </tr>\n",
       "    <tr>\n",
       "      <th>75%</th>\n",
       "      <td>80.00000</td>\n",
       "      <td>1.000000</td>\n",
       "      <td>1.0</td>\n",
       "      <td>1.000000</td>\n",
       "      <td>0.000000</td>\n",
       "      <td>0.000000</td>\n",
       "      <td>1.000000</td>\n",
       "      <td>1.00000</td>\n",
       "    </tr>\n",
       "    <tr>\n",
       "      <th>max</th>\n",
       "      <td>80.00000</td>\n",
       "      <td>1.000000</td>\n",
       "      <td>1.0</td>\n",
       "      <td>1.000000</td>\n",
       "      <td>1.000000</td>\n",
       "      <td>1.000000</td>\n",
       "      <td>1.000000</td>\n",
       "      <td>1.00000</td>\n",
       "    </tr>\n",
       "  </tbody>\n",
       "</table>\n",
       "</div>"
      ],
      "text/plain": [
       "       temperature  has_children  toCoupon_GEQ5min  toCoupon_GEQ15min  \\\n",
       "count  12640.00000  12640.000000           12640.0       12640.000000   \n",
       "mean      63.30894      0.415585               1.0           0.561551   \n",
       "std       19.15614      0.492842               0.0           0.496217   \n",
       "min       30.00000      0.000000               1.0           0.000000   \n",
       "25%       55.00000      0.000000               1.0           0.000000   \n",
       "50%       80.00000      0.000000               1.0           1.000000   \n",
       "75%       80.00000      1.000000               1.0           1.000000   \n",
       "max       80.00000      1.000000               1.0           1.000000   \n",
       "\n",
       "       toCoupon_GEQ25min  direction_same  direction_opp            Y  \n",
       "count       12640.000000    12640.000000   12640.000000  12640.00000  \n",
       "mean            0.119066        0.215032       0.784968      0.56875  \n",
       "std             0.323880        0.410861       0.410861      0.49527  \n",
       "min             0.000000        0.000000       0.000000      0.00000  \n",
       "25%             0.000000        0.000000       1.000000      0.00000  \n",
       "50%             0.000000        0.000000       1.000000      1.00000  \n",
       "75%             0.000000        0.000000       1.000000      1.00000  \n",
       "max             1.000000        1.000000       1.000000      1.00000  "
      ]
     },
     "execution_count": 436,
     "metadata": {},
     "output_type": "execute_result"
    }
   ],
   "source": [
    "data.describe()"
   ]
  },
  {
   "cell_type": "markdown",
   "metadata": {
    "id": "bSdVSpYB_qRH"
   },
   "source": [
    "## 4. Check and handle outliers\n",
    "\n",
    "#### <span style=\"font-family:Helvetica; font-size:20px;\">**<u>Conclusion</u>:** \n",
    "\n",
    " - <u>**car (A lot of missing values)</u>:** **Replace nan values with 'car'** as a neutral value. **Drop rows with values in ('do not drive', 'Scooter and motorcycle') as these potentially affect decision making**.  If you do not drive, you are not empowered to make a decisions about route.  If you drive a Scooter, your speed is less making your calculus different when judging distance and time.  This is less than 0.5% reduction in data. \n",
    "\n",
    " - <u>**Bar/CarryAway/CoffeeHouse/RestaurantLessThan20/Restaurant20To50 (Minimal missing values)</u>:** **Replace nan values with mode value for that field** using the distribution of values as a guide. This should not affect the analysis too much as I plan to evaluate \"3 or less\" vs \"4+\" rates of coupon acceptance.\n"
   ]
  },
  {
   "cell_type": "markdown",
   "metadata": {
    "id": "bSdVSpYB_qRH"
   },
   "source": [
    "## High Level Analysis: Total Population"
   ]
  },
  {
   "cell_type": "markdown",
   "metadata": {
    "id": "YE6oJbXd_qRI"
   },
   "source": [
    "### 4. What proportion of the total observations chose to accept the coupon?\n",
    "\n"
   ]
  },
  {
   "cell_type": "code",
   "execution_count": 440,
   "metadata": {
    "id": "86GGqBTv_qRI"
   },
   "outputs": [
    {
     "name": "stdout",
     "output_type": "stream",
     "text": [
      "Y\n",
      "1    7189\n",
      "0    5451\n",
      "Name: count, dtype: int64\n"
     ]
    },
    {
     "data": {
      "image/png": "[encoded data removed]",
      "text/plain": [
       "<Figure size 640x480 with 1 Axes>"
      ]
     },
     "metadata": {},
     "output_type": "display_data"
    }
   ],
   "source": [
    "# Count the occurrences of values in the 'Y' column\n",
    "pop_accept = data['Y'].value_counts()\n",
    "\n",
    "# Create the pie chart with labels and title\n",
    "pop_accept.plot(\n",
    "    kind='pie',\n",
    "    explode=[0.03, 0.03],\n",
    "    autopct=lambda p: f'{round(p):.0f}%',  # Round to nearest whole number and format\n",
    "    colors=['#008000', '#b30000'],\n",
    "    labels=['Accepted Coupon', 'Did Not Accept Coupon'], \n",
    "    ylabel='',  # Remove default ylabel\n",
    "    title='Total Population Coupon Acceptance Proportion',  \n",
    "    startangle=75,  # Rotate the chart to start at 75 degrees\n",
    "    textprops={ 'weight': 'bold'}\n",
    ")\n",
    "print(pop_accept)\n",
    "\n",
    "# Save the plot as an image\n",
    "output_path = 'images/tot_pop_rate.png'  \n",
    "plt.savefig(output_path) "
   ]
  },
  {
   "cell_type": "markdown",
   "metadata": {
    "id": "vflz0DoE_qRI"
   },
   "source": [
    "### 5. Use a bar plot to visualize the `coupon` column."
   ]
  },
  {
   "cell_type": "code",
   "execution_count": 442,
   "metadata": {
    "id": "dHFh3E45_qRI"
   },
   "outputs": [
    {
     "data": {
      "image/png": "[encoded data removed]",
      "text/plain": [
       "<Figure size 640x480 with 1 Axes>"
      ]
     },
     "metadata": {},
     "output_type": "display_data"
    }
   ],
   "source": [
    "coupons_offered = data['coupon'].value_counts()\n",
    "total = len(data['coupon'])\n",
    "\n",
    "ax = sns.countplot(data, \n",
    "              x='coupon', \n",
    "              hue='coupon', \n",
    "              palette='muted')\n",
    "for p in ax.patches:\n",
    "    count = p.get_height()  # Get the height of the bar (count)\n",
    "    percentage = round(100 * count / total)  # Calculate and round the percentage\n",
    "    ax.annotate(f'{percentage}%', \n",
    "                (p.get_x() + p.get_width() / 2., count),  # Position the label\n",
    "                ha='center', va='bottom', fontsize=10, color='black')\n",
    "\n",
    "plt.xticks(rotation=45)\n",
    "plt.title('Distribution of Coupons Offered by Coupon Type')\n",
    "plt.xlabel('Coupon Type')\n",
    "plt.ylabel('Count')\n",
    "\n",
    "\n",
    "# Save the plot as an image\n",
    "output_path = 'images/offer_proportion.png'  \n",
    "plt.savefig(output_path) \n",
    "\n",
    "plt.show()"
   ]
  },
  {
   "cell_type": "markdown",
   "metadata": {
    "id": "Qw4lCyx2_qRI"
   },
   "source": [
    "### 6. Use a histogram to visualize the `temperature` column."
   ]
  },
  {
   "cell_type": "code",
   "execution_count": 444,
   "metadata": {
    "id": "Yg9Anv71_qRI"
   },
   "outputs": [
    {
     "data": {
      "image/png": "[encoded data removed]",
      "text/plain": [
       "<Figure size 640x480 with 1 Axes>"
      ]
     },
     "metadata": {},
     "output_type": "display_data"
    }
   ],
   "source": [
    "sns.histplot(\n",
    "    data,\n",
    "    x=data['temperature'],\n",
    "    hue = 'temperature',\n",
    "    palette='dark' \n",
    "\n",
    ")\n",
    "plt.title('Histogram of Temperatures')\n",
    "plt.xlabel('Temperature')\n",
    "plt.ylabel('Frequency')\n",
    "plt.show()"
   ]
  },
  {
   "cell_type": "code",
   "execution_count": null,
   "metadata": {
    "id": "zLtOaJQk_qRI"
   },
   "outputs": [],
   "source": []
  },
  {
   "cell_type": "code",
   "execution_count": null,
   "metadata": {
    "id": "7GBHZKBp_qRJ"
   },
   "outputs": [],
   "source": []
  },
  {
   "cell_type": "markdown",
   "metadata": {
    "id": "FupfgeJk_qRJ"
   },
   "source": [
    "## **Investigating the Bar Coupons**\n",
    "\n",
    "Now, we will lead you through an exploration of just the bar related coupons.  \n",
    "\n",
    "### 1. Create a new `DataFrame` that contains just the bar coupons.\n"
   ]
  },
  {
   "cell_type": "code",
   "execution_count": 446,
   "metadata": {
    "id": "tMBlWuGq_qRJ"
   },
   "outputs": [
    {
     "data": {
      "text/plain": [
       "(2012, 26)"
      ]
     },
     "execution_count": 446,
     "metadata": {},
     "output_type": "execute_result"
    }
   ],
   "source": [
    "barcoupondata = data.query('coupon == \"Bar\"')\n",
    "barcoupondata.shape"
   ]
  },
  {
   "cell_type": "markdown",
   "metadata": {
    "id": "8ue6uCqf_qRJ"
   },
   "source": [
    "### 2. What proportion of bar coupons were accepted?\n"
   ]
  },
  {
   "cell_type": "code",
   "execution_count": 448,
   "metadata": {
    "id": "hSdte8Mi_qRK"
   },
   "outputs": [
    {
     "name": "stdout",
     "output_type": "stream",
     "text": [
      "Y\n",
      "0    1188\n",
      "1     824\n",
      "Name: count, dtype: int64\n"
     ]
    },
    {
     "data": {
      "image/png": "[encoded data removed]",
      "text/plain": [
       "<Figure size 640x480 with 1 Axes>"
      ]
     },
     "metadata": {},
     "output_type": "display_data"
    }
   ],
   "source": [
    "# Count the occurrences of values in the 'Y' column\n",
    "barpop_accept = barcoupondata['Y'].value_counts()\n",
    "\n",
    "# Create the pie chart with labels and title\n",
    "barpop_accept.plot(\n",
    "    kind='pie',\n",
    "    explode=[0.03, 0.03],\n",
    "    autopct=lambda p: f'{round(p):.0f}%',  # Round to nearest whole number and format\n",
    "    colors=['#008000', '#b30000'],\n",
    "    labels=['Accepted Coupon', 'Did Not Accept Coupon'], \n",
    "    ylabel='',  # Remove default ylabel\n",
    "    title='Total Population Coupon Acceptance Proportion',  \n",
    "    startangle=75,  # Rotate the chart to start at 75 degrees\n",
    "    textprops={ 'weight': 'bold'}\n",
    ")\n",
    "print(barpop_accept)\n",
    "\n"
   ]
  },
  {
   "cell_type": "markdown",
   "metadata": {
    "id": "85nA_iEi_qRK"
   },
   "source": [
    "### 3. Compare the acceptance rate between those who went to a bar 3 or fewer times a month to those who went more.\n"
   ]
  },
  {
   "cell_type": "code",
   "execution_count": 450,
   "metadata": {},
   "outputs": [
    {
     "name": "stdout",
     "output_type": "stream",
     "text": [
      "         Bar barfreq_cat3\n",
      "3289   less1    3 or less\n",
      "5369     4~8           4+\n",
      "12330  never    3 or less\n",
      "2016   less1    3 or less\n",
      "3465   never    3 or less\n",
      "12202    4~8           4+\n",
      "5939   less1    3 or less\n",
      "9526   never    3 or less\n",
      "3395   never    3 or less\n",
      "2584     1~3    3 or less\n"
     ]
    }
   ],
   "source": [
    "# Create a copy of the DataFrame\n",
    "barcoupondata = barcoupondata.copy()\n",
    "\n",
    "# Define cat_mapping\n",
    "cat_mapping = {\n",
    "    'never': 0,\n",
    "    'less1': 0.5, \n",
    "    '1~3': 3,\n",
    "    '4~8': 4,\n",
    "    'gt8': 8\n",
    "}\n",
    "\n",
    "# Map the \"Bar\" columns to numerical values\n",
    "barcoupondata['Bar_numeric'] = barcoupondata['Bar'].map(cat_mapping)\n",
    "\n",
    "\n",
    "# Add the new column\n",
    "barcoupondata['barfreq_cat3'] = barcoupondata.apply(\n",
    "    lambda row: '3 or less' if row['Bar_numeric'] <= 3  else '4+',\n",
    "    axis=1\n",
    ")\n",
    "# Verify the result\n",
    "print(barcoupondata[['Bar', 'barfreq_cat3']].sample(10, random_state=3))"
   ]
  },
  {
   "cell_type": "code",
   "execution_count": 451,
   "metadata": {},
   "outputs": [
    {
     "name": "stdout",
     "output_type": "stream",
     "text": [
      "barfreq_cat3  Y\n",
      "3 or less     0    1142\n",
      "              1     673\n",
      "4+            0      46\n",
      "              1     151\n",
      "dtype: int64\n"
     ]
    },
    {
     "data": {
      "image/png": "[encoded data removed]",
      "text/plain": [
       "<Figure size 800x600 with 1 Axes>"
      ]
     },
     "metadata": {},
     "output_type": "display_data"
    }
   ],
   "source": [
    "\n",
    "# Count occurrences of Y within each barfreq_cat category\n",
    "stacked_data = barcoupondata.groupby(['barfreq_cat3', 'Y']).size().unstack(fill_value=0)\n",
    "\n",
    "# Convert to proportions\n",
    "proportional_data = stacked_data.div(stacked_data.sum(axis=1), axis=0)\n",
    "\n",
    "# Reorder the columns to have Y first and N second\n",
    "proportional_data = proportional_data[[1, 0]]  # Ensure 'Y' (1) is first and 'N' (0) is second\n",
    "\n",
    "# Plot the proportional stacked bar chart\n",
    "proportional_data.plot(\n",
    "    kind='bar',\n",
    "    stacked=True,\n",
    "    color=['#008000', '#b30000'],  \n",
    "    figsize=(8, 6)\n",
    ")\n",
    "\n",
    "# Customize the plot\n",
    "plt.title('Bar Coupon Acceptance Rate by Frequency of Visits to Bars')\n",
    "plt.xlabel('Bar Frequency (Visits per Month)')\n",
    "plt.ylabel('Proportion')\n",
    "plt.legend(title='Accepted Coupon', labels=['Y', 'N'], loc='upper right')\n",
    "plt.xticks(rotation=0)\n",
    "\n",
    "print(barcoupondata.groupby(['barfreq_cat3', 'Y']).size())\n",
    "plt.show()\n",
    "\n"
   ]
  },
  {
   "cell_type": "markdown",
   "metadata": {
    "id": "RBgcQwH4_qRK"
   },
   "source": [
    "### 4. Compare the acceptance rate between drivers who go to a bar more than once a month and are over the age of 25 to the all others.  Is there a difference?\n"
   ]
  },
  {
   "cell_type": "code",
   "execution_count": 453,
   "metadata": {
    "id": "bf28bbeX_qRK"
   },
   "outputs": [
    {
     "name": "stdout",
     "output_type": "stream",
     "text": [
      "         Bar      age                category_1_25\n",
      "10018    4~8       26  Bar Visits > 1 and Age > 25\n",
      "1232   never  below21                       Others\n",
      "11940  less1       31                       Others\n",
      "9042     1~3       21                       Others\n",
      "7247     1~3   50plus  Bar Visits > 1 and Age > 25\n",
      "374    never       31                       Others\n",
      "8569   never       21                       Others\n",
      "10752  less1       41                       Others\n",
      "2086   never       36                       Others\n",
      "6368     1~3       26  Bar Visits > 1 and Age > 25\n"
     ]
    }
   ],
   "source": [
    "# Define mappings for \"age\" \n",
    "\n",
    "age_mapping = {\n",
    "    'below21': 20,\n",
    "    '21': 21,\n",
    "    '26': 26,\n",
    "    '31': 31,\n",
    "    '36': 36,\n",
    "    '41': 41,\n",
    "    '46': 46,\n",
    "    '50plus': 51\n",
    "}\n",
    "\n",
    "# Map the \"age\" column to numerical values\n",
    "barcoupondata['age_numeric'] = barcoupondata['age'].map(age_mapping)\n",
    "\n",
    "#Create the new categories\n",
    "barcoupondata['category_1_25'] = barcoupondata.apply(\n",
    "    lambda row: 'Bar Visits > 1 and Age > 25' if row['Bar_numeric'] > 1 and row['age_numeric'] > 25 else 'Others',\n",
    "    axis=1\n",
    ")\n",
    "\n",
    "#Verify the result\n",
    "print(barcoupondata[['Bar', 'age', 'category_1_25']].sample(10, random_state=40))\n"
   ]
  },
  {
   "cell_type": "code",
   "execution_count": 454,
   "metadata": {},
   "outputs": [
    {
     "name": "stdout",
     "output_type": "stream",
     "text": [
      "category_1_25                Y\n",
      "Bar Visits > 1 and Age > 25  0     128\n",
      "                             1     290\n",
      "Others                       0    1060\n",
      "                             1     534\n",
      "dtype: int64\n"
     ]
    },
    {
     "data": {
      "image/png": "[encoded data removed]",
      "text/plain": [
       "<Figure size 800x600 with 1 Axes>"
      ]
     },
     "metadata": {},
     "output_type": "display_data"
    }
   ],
   "source": [
    "\n",
    "# Count occurrences of Y within each 'category_1_25' category\n",
    "stacked_data = barcoupondata.groupby(['category_1_25', 'Y']).size().unstack(fill_value=0)\n",
    "\n",
    "# Convert to proportions\n",
    "proportional_data = stacked_data.div(stacked_data.sum(axis=1), axis=0)\n",
    "\n",
    "# Reorder the columns to have Y first and N second\n",
    "proportional_data = proportional_data[[1, 0]]  # Ensure 'Y' (1) is first and 'N' (0) is second\n",
    "\n",
    "# Plot the proportional stacked bar chart\n",
    "proportional_data.plot(\n",
    "    kind='bar',\n",
    "    stacked=True,\n",
    "    color=['#008000', '#b30000'],  # Adjust colors accordingly\n",
    "    figsize=(8, 6)\n",
    ")\n",
    "\n",
    "# Customize the plot\n",
    "plt.title('Bar Coupon Acceptance Rate by Drivers with Bar Visits > 1 and Age > 25 versus Others')\n",
    "plt.xlabel('Cohort')\n",
    "plt.ylabel('Proportion')\n",
    "plt.legend(title='Accepted Coupon', labels=['Y','N'], loc='upper right')\n",
    "plt.xticks(rotation=0)\n",
    "\n",
    "print(barcoupondata.groupby(['category_1_25', 'Y']).size())\n",
    "plt.show()\n",
    "\n"
   ]
  },
  {
   "cell_type": "markdown",
   "metadata": {
    "id": "S4RKT4PJ_qRK"
   },
   "source": [
    "### 5. Use the same process to compare the acceptance rate between drivers who go to bars more than once a month and had passengers that were not a kid and had occupations other than farming, fishing, or forestry.\n"
   ]
  },
  {
   "cell_type": "code",
   "execution_count": 456,
   "metadata": {},
   "outputs": [
    {
     "name": "stdout",
     "output_type": "stream",
     "text": [
      "bar_pass_occ  Y\n",
      "Others        0    1030\n",
      "              1     433\n",
      "Target        0     158\n",
      "              1     391\n",
      "dtype: int64\n"
     ]
    },
    {
     "data": {
      "image/png": "[encoded data removed]",
      "text/plain": [
       "<Figure size 800x600 with 1 Axes>"
      ]
     },
     "metadata": {},
     "output_type": "display_data"
    }
   ],
   "source": [
    "#  Create a new category 'bar_pass_occ'\n",
    "barcoupondata['bar_pass_occ'] = barcoupondata.apply(\n",
    "    lambda row: 'Target' if row['Bar_numeric'] > 1 and \n",
    "                                     row['passanger'] != 'Kid(s)' and \n",
    "                                     row['occupation'] != 'Farming Fishing & Forestry' \n",
    "                  else 'Others',\n",
    "    axis=1\n",
    ")\n",
    "\n",
    "# Count occurrences of Y within each 'bar_pass_occ' category\n",
    "stacked_data = barcoupondata.groupby(['bar_pass_occ', 'Y']).size().unstack(fill_value=0)\n",
    "\n",
    "# Convert to proportions\n",
    "proportional_data = stacked_data.div(stacked_data.sum(axis=1), axis=0)\n",
    "\n",
    "# Reorder the columns to have Y first and N second\n",
    "proportional_data = proportional_data[[1, 0]]  # Ensure 'Y' (1) is first and 'N' (0) is second\n",
    "\n",
    "# Plot the proportional stacked bar chart\n",
    "proportional_data.plot(\n",
    "    kind='bar',\n",
    "    stacked=True,\n",
    "    color=['#008000', '#b30000'],  # Adjust colors accordingly\n",
    "    figsize=(8, 6)\n",
    ")\n",
    "\n",
    "# Customize the plot\n",
    "plt.title('Bar Coupon Acceptance Rate by Target vs Other \\n'\n",
    "          'Where Target = Drivers who go to bars more than once a month \\n'\n",
    "          'and had passengers that were not a kid and had occupations other than farming, fishing, or forestry')\n",
    "plt.xlabel('Cohort')\n",
    "plt.ylabel('Proportion')\n",
    "plt.legend(title='Accepted Coupon', labels=['Y','N'], loc='upper right')\n",
    "plt.xticks(rotation=0)\n",
    "\n",
    "# Step 6: Print grouped data for verification\n",
    "print(barcoupondata.groupby(['bar_pass_occ', 'Y']).size())\n",
    "plt.show()\n",
    "\n"
   ]
  },
  {
   "cell_type": "markdown",
   "metadata": {
    "id": "n2LIUTil_qRK"
   },
   "source": [
    "### 6. Compare the acceptance rates between those drivers who:\n",
    "\n",
    "#### 6.a go to bars more than once a month, had passengers that were not a kid, and were not widowed \n",
    "\n"
   ]
  },
  {
   "cell_type": "code",
   "execution_count": 458,
   "metadata": {},
   "outputs": [
    {
     "data": {
      "text/plain": [
       "array(['Unmarried partner', 'Single', 'Married partner', 'Divorced',\n",
       "       'Widowed'], dtype=object)"
      ]
     },
     "execution_count": 458,
     "metadata": {},
     "output_type": "execute_result"
    }
   ],
   "source": [
    "data['maritalStatus'].unique()"
   ]
  },
  {
   "cell_type": "code",
   "execution_count": 459,
   "metadata": {
    "id": "aK_wEzx7_qRK"
   },
   "outputs": [
    {
     "name": "stdout",
     "output_type": "stream",
     "text": [
      "cat_q6a  Y\n",
      "Others   0    1030\n",
      "         1     433\n",
      "Target   0     158\n",
      "         1     391\n",
      "dtype: int64\n"
     ]
    },
    {
     "data": {
      "image/png": "[encoded data removed]",
      "text/plain": [
       "<Figure size 800x600 with 1 Axes>"
      ]
     },
     "metadata": {},
     "output_type": "display_data"
    }
   ],
   "source": [
    "#  Create a new category 'cat_q6a'\n",
    "barcoupondata['cat_q6a'] = barcoupondata.apply(\n",
    "    lambda row: 'Target' if row['Bar_numeric'] > 1 and \n",
    "                                     row['passanger'] != 'Kid(s)' and \n",
    "                                     row['maritalStatus'] != 'Widowed' \n",
    "                  else 'Others',\n",
    "    axis=1\n",
    ")\n",
    "\n",
    "# Count occurrences of Y within each 'bar_pass_occ' category\n",
    "stacked_data = barcoupondata.groupby(['cat_q6a', 'Y']).size().unstack(fill_value=0)\n",
    "\n",
    "# Convert to proportions\n",
    "proportional_data = stacked_data.div(stacked_data.sum(axis=1), axis=0)\n",
    "\n",
    "# Reorder the columns to have Y first and N second\n",
    "proportional_data = proportional_data[[1, 0]]  # Ensure 'Y' (1) is first and 'N' (0) is second\n",
    "\n",
    "# Plot the proportional stacked bar chart\n",
    "proportional_data.plot(\n",
    "    kind='bar',\n",
    "    stacked=True,\n",
    "    color=['#008000', '#b30000'],  # Adjust colors accordingly\n",
    "    figsize=(8, 6)\n",
    ")\n",
    "\n",
    "# Customize the plot\n",
    "plt.title('Bar Coupon Acceptance Rate by Target vs Other \\n'\n",
    "          'Where Target = Drivers who go to bars more than once a month \\n'\n",
    "          'and had passengers that were not a kid and had were not widowed')\n",
    "plt.xlabel('Cohort')\n",
    "plt.ylabel('Proportion')\n",
    "plt.legend(title='Accepted Coupon', labels=['Y','N'], loc='upper right')\n",
    "plt.xticks(rotation=0)\n",
    "\n",
    "# Print grouped data for verification\n",
    "print(barcoupondata.groupby(['cat_q6a', 'Y']).size())\n",
    "plt.show()\n"
   ]
  },
  {
   "cell_type": "code",
   "execution_count": null,
   "metadata": {},
   "outputs": [],
   "source": []
  },
  {
   "cell_type": "markdown",
   "metadata": {
    "id": "n2LIUTil_qRK"
   },
   "source": [
    "#### 6.b go to bars more than once a month and are under the age of 30\n"
   ]
  },
  {
   "cell_type": "code",
   "execution_count": 461,
   "metadata": {},
   "outputs": [
    {
     "name": "stdout",
     "output_type": "stream",
     "text": [
      "cat_q6b  Y\n",
      "Others   0    1092\n",
      "         1     577\n",
      "Target   0      96\n",
      "         1     247\n",
      "dtype: int64\n"
     ]
    },
    {
     "data": {
      "image/png": "[encoded data removed]",
      "text/plain": [
       "<Figure size 800x600 with 1 Axes>"
      ]
     },
     "metadata": {},
     "output_type": "display_data"
    }
   ],
   "source": [
    "#  Create a new category 'cat_q6b'\n",
    "barcoupondata['cat_q6b'] = barcoupondata.apply(\n",
    "    lambda row: 'Target' if row['Bar_numeric'] > 1 and \n",
    "                                     row['age_numeric'] < 30 \n",
    "                  else 'Others',\n",
    "    axis=1\n",
    ")\n",
    "\n",
    "# Count occurrences of Y within each 'cat_q6b' category\n",
    "stacked_data = barcoupondata.groupby(['cat_q6b', 'Y']).size().unstack(fill_value=0)\n",
    "\n",
    "# Convert to proportions\n",
    "proportional_data = stacked_data.div(stacked_data.sum(axis=1), axis=0)\n",
    "\n",
    "# Reorder the columns to have Y first and N second\n",
    "proportional_data = proportional_data[[1, 0]]  # Ensure 'Y' (1) is first and 'N' (0) is second\n",
    "\n",
    "# Plot the proportional stacked bar chart\n",
    "proportional_data.plot(\n",
    "    kind='bar',\n",
    "    stacked=True,\n",
    "    color=['#008000', '#b30000'],  # Adjust colors accordingly\n",
    "    figsize=(8, 6)\n",
    ")\n",
    "\n",
    "# Customize the plot\n",
    "plt.title('Bar Coupon Acceptance Rate by Target vs Other \\n'\n",
    "          'Where Target = Drivers who go to bars more than once a month \\n'\n",
    "          'and were under Age 30')\n",
    "plt.xlabel('Cohort')\n",
    "plt.ylabel('Proportion')\n",
    "plt.legend(title='Accepted Coupon', labels=['Y', 'N'], loc='upper right')\n",
    "plt.xticks(rotation=0)\n",
    "\n",
    "# Print grouped data for verification\n",
    "print(barcoupondata.groupby(['cat_q6b', 'Y']).size())\n",
    "plt.show()"
   ]
  },
  {
   "cell_type": "markdown",
   "metadata": {
    "id": "n2LIUTil_qRK"
   },
   "source": [
    "#### 6.c go to cheap restaurants more than 4 times a month and income is less than 50K."
   ]
  },
  {
   "cell_type": "code",
   "execution_count": 463,
   "metadata": {},
   "outputs": [
    {
     "name": "stdout",
     "output_type": "stream",
     "text": [
      "cat_q6c  Y\n",
      "Others   0    1000\n",
      "         1     668\n",
      "Target   0     188\n",
      "         1     156\n",
      "dtype: int64\n"
     ]
    },
    {
     "data": {
      "image/png": "[encoded data removed]",
      "text/plain": [
       "<Figure size 800x600 with 1 Axes>"
      ]
     },
     "metadata": {},
     "output_type": "display_data"
    }
   ],
   "source": [
    "# Define mappings for \"income\" \n",
    "\n",
    "income_mapping = {\n",
    "    'Less than $12500': 12.4,\n",
    "    '$12500 - $24999': 12.5,\n",
    "    '$25000 - $37499': 25,\n",
    "    '$37500 - $49999': 37.5,\n",
    "    '$50000 - $62499': 50, \n",
    "    '$62500 - $74999': 62.5, \n",
    "    '$75000 - $87499': 75, \n",
    "    '$87500 - $99999': 87.5,\n",
    "    '$100000 or More': 100,\n",
    "}\n",
    "\n",
    "# Map the \"income\" column to numerical values\n",
    "barcoupondata['income_numeric'] = barcoupondata['income'].map(income_mapping)\n",
    "\n",
    "\n",
    "# Map the \"RestaurantLessThan20\" (as cheap restaurants) columns to numerical values\n",
    "barcoupondata['cheapRest_numeric'] = barcoupondata['RestaurantLessThan20'].map(cat_mapping)\n",
    "\n",
    "#  Create a new category 'cat_q6c'\n",
    "barcoupondata['cat_q6c'] = barcoupondata.apply(\n",
    "    lambda row: 'Target' if row['cheapRest_numeric'] >= 4 and \n",
    "                                     row['income_numeric'] < 50 \n",
    "                  else 'Others',\n",
    "    axis=1\n",
    ")\n",
    "\n",
    "# Count occurrences of Y within each 'cat_q6c' category\n",
    "stacked_data = barcoupondata.groupby(['cat_q6c', 'Y']).size().unstack(fill_value=0)\n",
    "\n",
    "# Convert to proportions\n",
    "proportional_data = stacked_data.div(stacked_data.sum(axis=1), axis=0)\n",
    "\n",
    "# Reorder the columns to have Y first and N second\n",
    "proportional_data = proportional_data[[1, 0]]  # Ensure 'Y' (1) is first and 'N' (0) is second\n",
    "\n",
    "# Plot the proportional stacked bar chart\n",
    "proportional_data.plot(\n",
    "    kind='bar',\n",
    "    stacked=True,\n",
    "    color=['#008000', '#b30000'],  # Adjust colors accordingly\n",
    "    figsize=(8, 6)\n",
    ")\n",
    "\n",
    "# Customize the plot\n",
    "plt.title('Bar Coupon Acceptance Rate by Target vs Other \\n'\n",
    "          'Where Target = Drivers who go to cheap rest more than 4x a month \\n'\n",
    "          'and Income < $50k')\n",
    "plt.xlabel('Cohort')\n",
    "plt.ylabel('Proportion')\n",
    "plt.legend(title='Accepted Coupon', labels=['Y', 'N'], loc='upper right')\n",
    "plt.xticks(rotation=0)\n",
    "\n",
    "# Print grouped data for verification\n",
    "print(barcoupondata.groupby(['cat_q6c', 'Y']).size())\n",
    "plt.show()"
   ]
  },
  {
   "cell_type": "code",
   "execution_count": null,
   "metadata": {},
   "outputs": [],
   "source": []
  },
  {
   "cell_type": "code",
   "execution_count": null,
   "metadata": {},
   "outputs": [],
   "source": []
  },
  {
   "cell_type": "markdown",
   "metadata": {
    "id": "v3fL3QkO_qRK"
   },
   "source": [
    "### 7.  Based on these observations, what do you hypothesize about drivers who accepted the bar coupons?"
   ]
  },
  {
   "cell_type": "markdown",
   "metadata": {
    "id": "v3fL3QkO_qRK"
   },
   "source": [
    "#### Hypotheses:\n",
    "\n",
    "**Primary Hypothesis:**\n",
    "Customer coupon acceptance rates are strongly influenced by prior patronage habits specific to the type of establishment (e.g., bar, coffee house, or upscale restaurant). Customers with a higher historical frequency of visiting such establishments are more likely to accept corresponding coupons.\n",
    "\n",
    "**Supporting Hypotheses:**\n",
    "\n",
    "Coupon Expiration Dynamics:\n",
    "\n",
    "Coupons with a shorter expiration period (e.g., 2 hours) may lead to higher immediate usage, while longer expiration periods (e.g., 1 day) may encourage acceptance for future use. Since success for our usecase includes acceptance for later usage, offering the longer expiration in all cases may help boost acceptance rates.  We might also be open to testing longer experation periods.\n",
    "\n",
    "\n",
    "Contextual Influence:\n",
    "\n",
    "Contextual influence such as passangers, direction of travel, and weather may have varying influence on acceptance especially if coupons do not have to be redeemed right away.  However,coupons offered during certain times of day (e.g., morning while heading to work) are less likely to be accepted due to conflicting priorities/mindspace. \n"
   ]
  },
  {
   "cell_type": "code",
   "execution_count": null,
   "metadata": {},
   "outputs": [],
   "source": []
  },
  {
   "cell_type": "markdown",
   "metadata": {
    "id": "r4Hu1zOb_qRL"
   },
   "source": [
    "### Independent Investigation\n",
    "\n",
    "Using the bar coupon example as motivation, you are to explore one of the other coupon groups and try to determine the characteristics of passengers who accept the coupons.  "
   ]
  },
  {
   "cell_type": "markdown",
   "metadata": {
    "id": "v3fL3QkO_qRK"
   },
   "source": [
    "#### Determine acceptance rate by coupon type to gain an understanding of where to focus"
   ]
  },
  {
   "cell_type": "code",
   "execution_count": 468,
   "metadata": {},
   "outputs": [
    {
     "name": "stdout",
     "output_type": "stream",
     "text": [
      "coupon                 Y\n",
      "Bar                    0    1188\n",
      "                       1     824\n",
      "Carry out & Take away  0     630\n",
      "                       1    1756\n",
      "Coffee House           0    1989\n",
      "                       1    1990\n",
      "Restaurant(20-50)      0     831\n",
      "                       1     655\n",
      "Restaurant(<20)        0     813\n",
      "                       1    1964\n",
      "dtype: int64\n"
     ]
    },
    {
     "data": {
      "image/png": "[encoded data removed]",
      "text/plain": [
       "<Figure size 800x600 with 1 Axes>"
      ]
     },
     "metadata": {},
     "output_type": "display_data"
    }
   ],
   "source": [
    "\n",
    "# Count occurrences of Y within each coupon category\n",
    "stacked_data = data.groupby(['coupon', 'Y']).size().unstack(fill_value=0)\n",
    "\n",
    "# Convert to proportions\n",
    "proportional_data = stacked_data.div(stacked_data.sum(axis=1), axis=0)\n",
    "\n",
    "# Reorder the columns to have Y first and N second\n",
    "proportional_data = proportional_data[[1, 0]]  # Ensure 'Y' (1) is first and 'N' (0) is second\n",
    "\n",
    "# Plot the proportional stacked bar chart\n",
    "proportional_data.plot(\n",
    "    kind='bar',\n",
    "    stacked=True,\n",
    "    color=['#008000', '#b30000'],  # Adjust colors accordingly\n",
    "    figsize=(8, 6)\n",
    ")\n",
    "\n",
    "# Customize the plot\n",
    "plt.title('Coupon Acceptance Rate by Coupon Type')\n",
    "plt.xlabel('Coupon Type')\n",
    "plt.ylabel('Proportion')\n",
    "plt.legend(title='Coupon Type', labels=['Y', 'N'], loc='upper right')  # Update legend order\n",
    "plt.xticks(rotation=45)\n",
    "\n",
    "# Print grouped data for verification\n",
    "print(data.groupby(['coupon', 'Y']).size())\n",
    "\n",
    "\n",
    "# Save the plot as an image\n",
    "output_path = 'images/accept_rate_by_type.png'  \n",
    "plt.savefig(output_path) \n",
    "\n",
    "plt.show()"
   ]
  },
  {
   "cell_type": "markdown",
   "metadata": {
    "id": "v3fL3QkO_qRK"
   },
   "source": [
    "#### Create columns to aid further analysis - simplify or encode "
   ]
  },
  {
   "cell_type": "code",
   "execution_count": 470,
   "metadata": {
    "id": "QEsBkvIN_qRL"
   },
   "outputs": [
    {
     "data": {
      "text/html": [
       "<div>\n",
       "<style scoped>\n",
       "    .dataframe tbody tr th:only-of-type {\n",
       "        vertical-align: middle;\n",
       "    }\n",
       "\n",
       "    .dataframe tbody tr th {\n",
       "        vertical-align: top;\n",
       "    }\n",
       "\n",
       "    .dataframe thead th {\n",
       "        text-align: right;\n",
       "    }\n",
       "</style>\n",
       "<table border=\"1\" class=\"dataframe\">\n",
       "  <thead>\n",
       "    <tr style=\"text-align: right;\">\n",
       "      <th></th>\n",
       "      <th>destination</th>\n",
       "      <th>passanger</th>\n",
       "      <th>weather</th>\n",
       "      <th>temperature</th>\n",
       "      <th>time</th>\n",
       "      <th>coupon</th>\n",
       "      <th>expiration</th>\n",
       "      <th>gender</th>\n",
       "      <th>age</th>\n",
       "      <th>maritalStatus</th>\n",
       "      <th>...</th>\n",
       "      <th>toCoupon_GEQ15min</th>\n",
       "      <th>toCoupon_GEQ25min</th>\n",
       "      <th>direction_same</th>\n",
       "      <th>direction_opp</th>\n",
       "      <th>Y</th>\n",
       "      <th>Bar_numeric</th>\n",
       "      <th>Cheap_numeric</th>\n",
       "      <th>CarryAway_numeric</th>\n",
       "      <th>Fancy_numeric</th>\n",
       "      <th>CoffeeHouse_numeric</th>\n",
       "    </tr>\n",
       "  </thead>\n",
       "  <tbody>\n",
       "    <tr>\n",
       "      <th>561</th>\n",
       "      <td>Work</td>\n",
       "      <td>Alone</td>\n",
       "      <td>Sunny</td>\n",
       "      <td>55</td>\n",
       "      <td>7AM</td>\n",
       "      <td>Coffee House</td>\n",
       "      <td>2h</td>\n",
       "      <td>Female</td>\n",
       "      <td>46</td>\n",
       "      <td>Single</td>\n",
       "      <td>...</td>\n",
       "      <td>1</td>\n",
       "      <td>1</td>\n",
       "      <td>0</td>\n",
       "      <td>1</td>\n",
       "      <td>0</td>\n",
       "      <td>0.0</td>\n",
       "      <td>0.5</td>\n",
       "      <td>0.5</td>\n",
       "      <td>0.0</td>\n",
       "      <td>0.5</td>\n",
       "    </tr>\n",
       "    <tr>\n",
       "      <th>11075</th>\n",
       "      <td>Home</td>\n",
       "      <td>Alone</td>\n",
       "      <td>Sunny</td>\n",
       "      <td>80</td>\n",
       "      <td>6PM</td>\n",
       "      <td>Restaurant(20-50)</td>\n",
       "      <td>1d</td>\n",
       "      <td>Female</td>\n",
       "      <td>36</td>\n",
       "      <td>Married partner</td>\n",
       "      <td>...</td>\n",
       "      <td>0</td>\n",
       "      <td>0</td>\n",
       "      <td>1</td>\n",
       "      <td>0</td>\n",
       "      <td>0</td>\n",
       "      <td>0.0</td>\n",
       "      <td>0.5</td>\n",
       "      <td>4.0</td>\n",
       "      <td>0.5</td>\n",
       "      <td>0.0</td>\n",
       "    </tr>\n",
       "  </tbody>\n",
       "</table>\n",
       "<p>2 rows × 31 columns</p>\n",
       "</div>"
      ],
      "text/plain": [
       "      destination passanger weather  temperature time             coupon  \\\n",
       "561          Work     Alone   Sunny           55  7AM       Coffee House   \n",
       "11075        Home     Alone   Sunny           80  6PM  Restaurant(20-50)   \n",
       "\n",
       "      expiration  gender age    maritalStatus  ...  toCoupon_GEQ15min  \\\n",
       "561           2h  Female  46           Single  ...                  1   \n",
       "11075         1d  Female  36  Married partner  ...                  0   \n",
       "\n",
       "      toCoupon_GEQ25min direction_same direction_opp  Y Bar_numeric  \\\n",
       "561                   1              0             1  0         0.0   \n",
       "11075                 0              1             0  0         0.0   \n",
       "\n",
       "      Cheap_numeric CarryAway_numeric Fancy_numeric CoffeeHouse_numeric  \n",
       "561             0.5               0.5           0.0                 0.5  \n",
       "11075           0.5               4.0           0.5                 0.0  \n",
       "\n",
       "[2 rows x 31 columns]"
      ]
     },
     "execution_count": 470,
     "metadata": {},
     "output_type": "execute_result"
    }
   ],
   "source": [
    "# Encode category visits per month data into numerical data\n",
    "data['Bar_numeric'] = data['Bar'].map(cat_mapping)\n",
    "data['Cheap_numeric'] = data['RestaurantLessThan20'].map(cat_mapping)\n",
    "data['CarryAway_numeric'] = data['CarryAway'].map(cat_mapping)\n",
    "data['Fancy_numeric'] = data['Restaurant20To50'].map(cat_mapping)\n",
    "data['CoffeeHouse_numeric'] = data['CoffeeHouse'].map(cat_mapping)\n",
    "\n",
    "\n",
    "data.sample(2)"
   ]
  },
  {
   "cell_type": "code",
   "execution_count": null,
   "metadata": {},
   "outputs": [],
   "source": []
  },
  {
   "cell_type": "markdown",
   "metadata": {
    "id": "v3fL3QkO_qRK"
   },
   "source": [
    "#### Test Primary Hypothesis: IS PRIOR PATRONAGE A POTENTIAL HIGH PREDICTOR OF COUPON ACCEPTANCE?\n",
    "\n",
    "Conclusion:  Not always.  While correlated for a few of the coupon categories, for the most accepted coupon type (Carry Out), something else seems to be driving the overall higher acceptance rate."
   ]
  },
  {
   "cell_type": "code",
   "execution_count": 472,
   "metadata": {
    "id": "QEsBkvIN_qRL"
   },
   "outputs": [],
   "source": [
    "# Calculate mean response for each Coupon Type:  PRIOR PATRONAGE\n",
    "\n",
    "mean_response_cat1 = data.query('coupon == \"Carry out & Take away\"').groupby('CarryAway')['Y'].mean().reset_index()\n",
    "mean_response_cat2 = data.query('coupon == \"Coffee House\"').groupby('CoffeeHouse')['Y'].mean().reset_index()\n",
    "mean_response_cat3 = data.query('coupon == \"Bar\"').groupby('Bar')['Y'].mean().reset_index()\n",
    "mean_response_cat4 = data.query('coupon == \"Restaurant(<20)\"').groupby('RestaurantLessThan20')['Y'].mean().reset_index()\n",
    "mean_response_cat5 = data.query('coupon == \"Restaurant(20-50)\"').groupby('Restaurant20To50')['Y'].mean().reset_index()\n",
    "\n",
    "# Create a 2x3 subplot grid\n",
    "fig = make_subplots(rows=3, cols=2, subplot_titles=('Carry Out Visits vs Acceptance Rate', \n",
    "                                                    'Coffee House Visits vs Acceptance Rate', \n",
    "                                                    'Bar Visits vs Acceptance Rate', \n",
    "                                                    'Restaurant(<20) Visits vs Acceptance Rate', \n",
    "                                                    'Restaurant(20-50) Visits vs Acceptance Rate',\n",
    "                                                   \n",
    "                                                   ))\n",
    "\n",
    "# Add bar charts to the subplots\n",
    "fig.add_trace(\n",
    "    go.Bar(x=mean_response_cat1['CarryAway'], y=mean_response_cat1['Y'], name='CarryAway'),\n",
    "    row=1, col=1\n",
    ")\n",
    "\n",
    "fig.add_trace(\n",
    "    go.Bar(x=mean_response_cat2['CoffeeHouse'], y=mean_response_cat2['Y'], name='CoffeeHouse'),\n",
    "    row=1, col=2\n",
    ")\n",
    "fig.add_trace(\n",
    "    go.Bar(x=mean_response_cat3['Bar'], y=mean_response_cat3['Y'], name='Bar'),\n",
    "    row=2, col=1\n",
    ")\n",
    "\n",
    "fig.add_trace(\n",
    "    go.Bar(x=mean_response_cat4['RestaurantLessThan20'], y=mean_response_cat4['Y'], name='RestaurantLessThan20'),\n",
    "    row=2, col=2\n",
    ")\n",
    "fig.add_trace(\n",
    "    go.Bar(x=mean_response_cat5['Restaurant20To50'], y=mean_response_cat5['Y'], name='Restaurant20To50'),\n",
    "    row=3, col=1\n",
    ")\n",
    "\n",
    "fig.update_layout(\n",
    "    height=1000,\n",
    "    width=800,\n",
    "    title_text='Subplot Bar Charts of Prior Patronage vs Acceptance Rate',\n",
    "    showlegend=False\n",
    ")\n",
    "\n",
    "# Save the chart as a PNG file\n",
    "fig.write_image(\"images/prior_patronage.png\")\n"
   ]
  },
  {
   "cell_type": "markdown",
   "metadata": {},
   "source": [
    "![Chart](images/prior_patronage.png)\n"
   ]
  },
  {
   "cell_type": "markdown",
   "metadata": {
    "id": "v3fL3QkO_qRK"
   },
   "source": [
    "#### Explore CARRY OUT coupon acceptance vs various attributes.  This coupon type had an above average acceptance rate and improvement for this coupon type will have out weighted impact on overall acceptance rate.\n",
    "\n"
   ]
  },
  {
   "cell_type": "code",
   "execution_count": 475,
   "metadata": {
    "id": "QEsBkvIN_qRL"
   },
   "outputs": [],
   "source": [
    "# Calculate mean response for each feature:  CARRY OUT\n",
    "\n",
    "mean_response_cat1 = data.query('coupon == \"Carry out & Take away\"').groupby('expiration')['Y'].mean().reset_index()\n",
    "mean_response_cat2 = data.query('coupon == \"Carry out & Take away\"').groupby('passanger')['Y'].mean().reset_index()\n",
    "mean_response_cat3 = data.query('coupon == \"Carry out & Take away\"').groupby('time')['Y'].mean().reset_index()\n",
    "mean_response_cat4 = data.query('coupon == \"Carry out & Take away\"').groupby('destination')['Y'].mean().reset_index()\n",
    "mean_response_cat5 = data.query('coupon == \"Carry out & Take away\"').groupby('weather')['Y'].mean().reset_index()\n",
    "mean_response_cat6 = data.query('coupon == \"Carry out & Take away\"').groupby('gender')['Y'].mean().reset_index()\n",
    "mean_response_cat7 = data.query('coupon == \"Carry out & Take away\"').groupby('direction_same')['Y'].mean().reset_index()\n",
    "mean_response_cat8 = data.query('coupon == \"Carry out & Take away\"').groupby('has_children')['Y'].mean().reset_index()\n",
    "mean_response_cat9 = data.query('coupon == \"Carry out & Take away\"').groupby('age')['Y'].mean().reset_index()\n",
    "mean_response_cat10 = data.query('coupon == \"Carry out & Take away\"').groupby('occupation')['Y'].mean().reset_index()\n",
    "\n",
    "\n",
    "# Create a 5X2 subplot grid\n",
    "fig = make_subplots(rows=5, cols=2, subplot_titles=('Expiration vs Acceptance Rate', \n",
    "                                                    'Passengers vs Acceptance Rate', \n",
    "                                                    'Time vs Acceptance Rate', \n",
    "                                                    'Destination vs Acceptance Rate', \n",
    "                                                    'Weather vs Acceptance Rate',\n",
    "                                                    'Gender vs Acceptance Rate',\n",
    "                                                     'Same Direction vs Acceptance Rate',\n",
    "                                                    'Has Children vs Acceptance Rate',\n",
    "                                                    'Age vs Acceptance Rate',\n",
    "                                                    'Occupation vs Acceptance Rate',\n",
    "                                                   \n",
    "                                                   ))\n",
    "\n",
    "# Add bar charts to the subplots\n",
    "fig.add_trace(\n",
    "    go.Bar(x=mean_response_cat1['expiration'], y=mean_response_cat1['Y'], name='expiration'),\n",
    "    row=1, col=1\n",
    ")\n",
    "\n",
    "fig.add_trace(\n",
    "    go.Bar(x=mean_response_cat2['passanger'], y=mean_response_cat2['Y'], name='passanger'),\n",
    "    row=1, col=2\n",
    ")\n",
    "fig.add_trace(\n",
    "    go.Bar(x=mean_response_cat3['time'], y=mean_response_cat3['Y'], name='time'),\n",
    "    row=2, col=1\n",
    ")\n",
    "\n",
    "fig.add_trace(\n",
    "    go.Bar(x=mean_response_cat4['destination'], y=mean_response_cat4['Y'], name='destination'),\n",
    "    row=2, col=2\n",
    ")\n",
    "fig.add_trace(\n",
    "    go.Bar(x=mean_response_cat5['weather'], y=mean_response_cat5['Y'], name='weather'),\n",
    "    row=3, col=1\n",
    ")\n",
    "fig.add_trace(\n",
    "    go.Bar(x=mean_response_cat6['gender'], y=mean_response_cat6['Y'], name='gender'),\n",
    "    row=3, col=2\n",
    ")\n",
    "fig.add_trace(\n",
    "    go.Bar(x=mean_response_cat7['direction_same'], y=mean_response_cat7['Y'], name='direction_same'),\n",
    "    row=4, col=1\n",
    ")\n",
    "fig.add_trace(\n",
    "    go.Bar(x=mean_response_cat8['has_children'], y=mean_response_cat8['Y'], name='has_children'),\n",
    "    row=4, col=2\n",
    ")\n",
    "fig.add_trace(\n",
    "    go.Bar(x=mean_response_cat9['age'], y=mean_response_cat9['Y'], name='age'),\n",
    "    row=5, col=1\n",
    ")\n",
    "fig.add_trace(\n",
    "    go.Bar(x=mean_response_cat10['occupation'], y=mean_response_cat10['Y'], name='occupation'),\n",
    "    row=5, col=2\n",
    ")\n",
    "\n",
    "fig.update_layout(\n",
    "      height=1600,\n",
    "    width=1000,\n",
    "    title_text='Subplot Bar Charts of Attributes vs Acceptance Rate: CARRY OUT COUPON',\n",
    "    showlegend=False\n",
    ")\n",
    "\n",
    "# Save the chart as a PNG file\n",
    "fig.write_image(\"images/carryout_subplots.png\")\n"
   ]
  },
  {
   "cell_type": "markdown",
   "metadata": {},
   "source": [
    "![Chart](images/carryout_subplots.png)"
   ]
  },
  {
   "cell_type": "code",
   "execution_count": null,
   "metadata": {},
   "outputs": [],
   "source": []
  },
  {
   "cell_type": "markdown",
   "metadata": {
    "id": "v3fL3QkO_qRK"
   },
   "source": [
    "#### Explore CHEAP RESTAURANT coupon acceptance vs various attributes. This coupon type had an above average acceptance rate and improvement for this coupon type will have out weighted impact on overall acceptance rate.\n"
   ]
  },
  {
   "cell_type": "code",
   "execution_count": 478,
   "metadata": {
    "id": "QEsBkvIN_qRL"
   },
   "outputs": [],
   "source": [
    "# Calculate mean response for each feature:  CHEAP RESTAURANT\n",
    "\n",
    "mean_response_cat1 = data.query('coupon == \"Restaurant(<20)\"').groupby('expiration')['Y'].mean().reset_index()\n",
    "mean_response_cat2 = data.query('coupon == \"Restaurant(<20)\"').groupby('passanger')['Y'].mean().reset_index()\n",
    "mean_response_cat3 = data.query('coupon == \"Restaurant(<20)\"').groupby('time')['Y'].mean().reset_index()\n",
    "mean_response_cat4 = data.query('coupon == \"Restaurant(<20)\"').groupby('destination')['Y'].mean().reset_index()\n",
    "mean_response_cat5 = data.query('coupon == \"Restaurant(<20)\"').groupby('weather')['Y'].mean().reset_index()\n",
    "mean_response_cat6 = data.query('coupon == \"Restaurant(<20)\"').groupby('gender')['Y'].mean().reset_index()\n",
    "mean_response_cat7 = data.query('coupon == \"Restaurant(<20)\"').groupby('direction_same')['Y'].mean().reset_index()\n",
    "mean_response_cat8 = data.query('coupon == \"Restaurant(<20)\"').groupby('has_children')['Y'].mean().reset_index()\n",
    "mean_response_cat9 = data.query('coupon == \"Restaurant(<20)\"').groupby('age')['Y'].mean().reset_index()\n",
    "mean_response_cat10 = data.query('coupon == \"Restaurant(<20)\"').groupby('occupation')['Y'].mean().reset_index()\n",
    "\n",
    "\n",
    "# Create a 5X2 subplot grid\n",
    "fig = make_subplots(rows=5, cols=2, subplot_titles=('Expiration vs Acceptance Rate', \n",
    "                                                    'Passengers vs Acceptance Rate', \n",
    "                                                    'Time vs Acceptance Rate', \n",
    "                                                    'Destination vs Acceptance Rate', \n",
    "                                                    'Weather vs Acceptance Rate',\n",
    "                                                    'Gender vs Acceptance Rate',\n",
    "                                                     'Same Direction vs Acceptance Rate',\n",
    "                                                    'Has Children vs Acceptance Rate',\n",
    "                                                    'Age vs Acceptance Rate',\n",
    "                                                    'Occupation vs Acceptance Rate',\n",
    "                                                   \n",
    "                                                   ))\n",
    "\n",
    "# Add bar charts to the subplots\n",
    "fig.add_trace(\n",
    "    go.Bar(x=mean_response_cat1['expiration'], y=mean_response_cat1['Y'], name='expiration'),\n",
    "    row=1, col=1\n",
    ")\n",
    "\n",
    "fig.add_trace(\n",
    "    go.Bar(x=mean_response_cat2['passanger'], y=mean_response_cat2['Y'], name='passanger'),\n",
    "    row=1, col=2\n",
    ")\n",
    "fig.add_trace(\n",
    "    go.Bar(x=mean_response_cat3['time'], y=mean_response_cat3['Y'], name='time'),\n",
    "    row=2, col=1\n",
    ")\n",
    "\n",
    "fig.add_trace(\n",
    "    go.Bar(x=mean_response_cat4['destination'], y=mean_response_cat4['Y'], name='destination'),\n",
    "    row=2, col=2\n",
    ")\n",
    "fig.add_trace(\n",
    "    go.Bar(x=mean_response_cat5['weather'], y=mean_response_cat5['Y'], name='weather'),\n",
    "    row=3, col=1\n",
    ")\n",
    "fig.add_trace(\n",
    "    go.Bar(x=mean_response_cat6['gender'], y=mean_response_cat6['Y'], name='gender'),\n",
    "    row=3, col=2\n",
    ")\n",
    "fig.add_trace(\n",
    "    go.Bar(x=mean_response_cat7['direction_same'], y=mean_response_cat7['Y'], name='direction_same'),\n",
    "    row=4, col=1\n",
    ")\n",
    "fig.add_trace(\n",
    "    go.Bar(x=mean_response_cat8['has_children'], y=mean_response_cat8['Y'], name='has_children'),\n",
    "    row=4, col=2\n",
    ")\n",
    "fig.add_trace(\n",
    "    go.Bar(x=mean_response_cat9['age'], y=mean_response_cat9['Y'], name='age'),\n",
    "    row=5, col=1\n",
    ")\n",
    "fig.add_trace(\n",
    "    go.Bar(x=mean_response_cat10['occupation'], y=mean_response_cat10['Y'], name='occupation'),\n",
    "    row=5, col=2\n",
    ")\n",
    "\n",
    "fig.update_layout(\n",
    "    height=1600,\n",
    "    width=1000,\n",
    "    title_text='Subplot Bar Charts of Attributes vs Acceptance Rate: CHEAP RESTAURANT COUPON',\n",
    "    showlegend=False\n",
    ")\n",
    "\n",
    "# Save the chart as a PNG file\n",
    "fig.write_image(\"images/cheaprest_subplots.png\")\n",
    "\n"
   ]
  },
  {
   "cell_type": "markdown",
   "metadata": {},
   "source": [
    "![Chart](images/cheaprest_subplots.png)"
   ]
  },
  {
   "cell_type": "code",
   "execution_count": null,
   "metadata": {},
   "outputs": [],
   "source": []
  },
  {
   "cell_type": "markdown",
   "metadata": {
    "id": "v3fL3QkO_qRK"
   },
   "source": [
    "#### Explore COFFEE HOUSE coupon acceptance vs various attributes.  This coupon type had the highest proportion of offers relative to other coupon types so improvement on coffee house coupon acceptance could have an outpaced impact to program performance.\n"
   ]
  },
  {
   "cell_type": "code",
   "execution_count": 481,
   "metadata": {
    "id": "QEsBkvIN_qRL"
   },
   "outputs": [],
   "source": [
    "# Calculate mean response for each feature:  COFFEE HOUSE\n",
    "\n",
    "mean_response_cat1 = data.query('coupon == \"Coffee House\"').groupby('expiration')['Y'].mean().reset_index()\n",
    "mean_response_cat2 = data.query('coupon == \"Coffee House\"').groupby('passanger')['Y'].mean().reset_index()\n",
    "mean_response_cat3 = data.query('coupon == \"Coffee House\"').groupby('time')['Y'].mean().reset_index()\n",
    "mean_response_cat4 = data.query('coupon == \"Coffee House\"').groupby('destination')['Y'].mean().reset_index()\n",
    "mean_response_cat5 = data.query('coupon == \"Coffee House\"').groupby('weather')['Y'].mean().reset_index()\n",
    "mean_response_cat6 = data.query('coupon == \"Coffee House\"').groupby('gender')['Y'].mean().reset_index()\n",
    "mean_response_cat7 = data.query('coupon == \"Coffee House\"').groupby('direction_same')['Y'].mean().reset_index()\n",
    "mean_response_cat8 = data.query('coupon == \"Coffee House\"').groupby('has_children')['Y'].mean().reset_index()\n",
    "mean_response_cat9 = data.query('coupon == \"Coffee House\"').groupby('age')['Y'].mean().reset_index()\n",
    "mean_response_cat10 = data.query('coupon == \"Coffee House\"').groupby('occupation')['Y'].mean().reset_index()\n",
    "\n",
    "\n",
    "# Create a 5X2 subplot grid\n",
    "fig = make_subplots(rows=5, cols=2, subplot_titles=('Expiration vs Acceptance Rate', \n",
    "                                                    'Passengers vs Acceptance Rate', \n",
    "                                                    'Time vs Acceptance Rate', \n",
    "                                                    'Destination vs Acceptance Rate', \n",
    "                                                    'Weather vs Acceptance Rate',\n",
    "                                                    'Gender vs Acceptance Rate',\n",
    "                                                     'Same Direction vs Acceptance Rate',\n",
    "                                                    'Has Children vs Acceptance Rate',\n",
    "                                                    'Age vs Acceptance Rate',\n",
    "                                                    'Occupation vs Acceptance Rate',\n",
    "                                                   \n",
    "                                                   ))\n",
    "\n",
    "# Add bar charts to the subplots\n",
    "fig.add_trace(\n",
    "    go.Bar(x=mean_response_cat1['expiration'], y=mean_response_cat1['Y'], name='expiration'),\n",
    "    row=1, col=1\n",
    ")\n",
    "\n",
    "fig.add_trace(\n",
    "    go.Bar(x=mean_response_cat2['passanger'], y=mean_response_cat2['Y'], name='passanger'),\n",
    "    row=1, col=2\n",
    ")\n",
    "fig.add_trace(\n",
    "    go.Bar(x=mean_response_cat3['time'], y=mean_response_cat3['Y'], name='time'),\n",
    "    row=2, col=1\n",
    ")\n",
    "\n",
    "fig.add_trace(\n",
    "    go.Bar(x=mean_response_cat4['destination'], y=mean_response_cat4['Y'], name='destination'),\n",
    "    row=2, col=2\n",
    ")\n",
    "fig.add_trace(\n",
    "    go.Bar(x=mean_response_cat5['weather'], y=mean_response_cat5['Y'], name='weather'),\n",
    "    row=3, col=1\n",
    ")\n",
    "fig.add_trace(\n",
    "    go.Bar(x=mean_response_cat6['gender'], y=mean_response_cat6['Y'], name='gender'),\n",
    "    row=3, col=2\n",
    ")\n",
    "fig.add_trace(\n",
    "    go.Bar(x=mean_response_cat7['direction_same'], y=mean_response_cat7['Y'], name='direction_same'),\n",
    "    row=4, col=1\n",
    ")\n",
    "fig.add_trace(\n",
    "    go.Bar(x=mean_response_cat8['has_children'], y=mean_response_cat8['Y'], name='has_children'),\n",
    "    row=4, col=2\n",
    ")\n",
    "fig.add_trace(\n",
    "    go.Bar(x=mean_response_cat9['age'], y=mean_response_cat9['Y'], name='age'),\n",
    "    row=5, col=1\n",
    ")\n",
    "fig.add_trace(\n",
    "    go.Bar(x=mean_response_cat10['occupation'], y=mean_response_cat10['Y'], name='occupation'),\n",
    "    row=5, col=2\n",
    ")\n",
    "\n",
    "fig.update_layout(\n",
    "    height=1600,\n",
    "    width=1000,\n",
    "    title_text='Subplot Bar Charts of Attributes vs Acceptance Rate: COFFEE HOUSE COUPON',\n",
    "    showlegend=False\n",
    ")\n",
    "\n",
    "# Save the chart as a PNG file\n",
    "fig.write_image(\"images/coffeehouse_subplots.png\")\n"
   ]
  },
  {
   "cell_type": "markdown",
   "metadata": {
    "id": "fTC2WGE3_qRL"
   },
   "source": [
    "![Chart](images/coffeehouse_subplots.png)"
   ]
  },
  {
   "cell_type": "code",
   "execution_count": null,
   "metadata": {
    "id": "_oykf8YP_qRL"
   },
   "outputs": [],
   "source": []
  },
  {
   "cell_type": "code",
   "execution_count": null,
   "metadata": {},
   "outputs": [],
   "source": []
  },
  {
   "cell_type": "code",
   "execution_count": null,
   "metadata": {},
   "outputs": [],
   "source": []
  }
 ],
 "metadata": {
  "colab": {
   "provenance": []
  },
  "kernelspec": {
   "display_name": "Python 3 (ipykernel)",
   "language": "python",
   "name": "python3"
  },
  "language_info": {
   "codemirror_mode": {
    "name": "ipython",
    "version": 3
   },
   "file_extension": ".py",
   "mimetype": "text/x-python",
   "name": "python",
   "nbconvert_exporter": "python",
   "pygments_lexer": "ipython3",
   "version": "3.12.7"
  }
 },
 "nbformat": 4,
 "nbformat_minor": 4
}
